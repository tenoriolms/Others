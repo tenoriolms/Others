{
  "nbformat": 4,
  "nbformat_minor": 0,
  "metadata": {
    "colab": {
      "provenance": [],
      "toc_visible": true,
      "authorship_tag": "ABX9TyMJZhVNVwqQyRuQCLFN8iy/",
      "include_colab_link": true
    },
    "kernelspec": {
      "name": "python3",
      "display_name": "Python 3"
    },
    "language_info": {
      "name": "python"
    }
  },
  "cells": [
    {
      "cell_type": "markdown",
      "metadata": {
        "id": "view-in-github",
        "colab_type": "text"
      },
      "source": [
        "<a href=\"https://colab.research.google.com/github/tenoriolms/Others/blob/main/_module.ipynb\" target=\"_parent\"><img src=\"https://colab.research.google.com/assets/colab-badge.svg\" alt=\"Open In Colab\"/></a>"
      ]
    },
    {
      "cell_type": "markdown",
      "source": [
        "https://docs.python.org/pt-br/3/tutorial/modules.html"
      ],
      "metadata": {
        "id": "yhh50b4DO_yr"
      }
    },
    {
      "cell_type": "code",
      "source": [
        "import pandas as pd\n",
        "import numpy as np\n",
        "\n",
        "import seaborn as sns\n",
        "import matplotlib.pyplot as plt\n",
        "import plotly.express as px\n",
        "import missingno as msno\n",
        "\n",
        "\n",
        "import sklearn.metrics"
      ],
      "metadata": {
        "id": "4OBUth-Cre0o"
      },
      "execution_count": null,
      "outputs": []
    },
    {
      "cell_type": "code",
      "source": [
        "'''\n",
        "import sklearn.datasets\n",
        "import sklearn.model_selection\n",
        "\n",
        "import sklearn.ensemble #bibliotecas de aprendizado de máquina\n",
        "'''"
      ],
      "metadata": {
        "id": "lNstVHDPrkZ7",
        "colab": {
          "base_uri": "https://localhost:8080/",
          "height": 53
        },
        "outputId": "a4c51ff3-b6a2-488a-9e92-dccabc62f14e"
      },
      "execution_count": null,
      "outputs": [
        {
          "output_type": "execute_result",
          "data": {
            "text/plain": [
              "'\\nimport sklearn.datasets\\nimport sklearn.model_selection\\n\\nimport sklearn.ensemble #bibliotecas de aprendizado de máquina\\n'"
            ],
            "application/vnd.google.colaboratory.intrinsic+json": {
              "type": "string"
            }
          },
          "metadata": {},
          "execution_count": 2
        }
      ]
    },
    {
      "cell_type": "markdown",
      "source": [
        "#Declaração de Variáveis"
      ],
      "metadata": {
        "id": "OJgsy03zYNiz"
      }
    },
    {
      "cell_type": "code",
      "source": [
        "data = '1672' #ID do databank\n",
        "git_import_file = '' #nome da variante do databank original\n",
        "data_url = ''\n",
        "\n",
        "\n",
        "#dict para armazenar dados da função ID\n",
        "ID_dict = {}\n",
        "\n",
        "#gases com permeabilidades presentes no banco de dados ordem crescente de kinetic diameter\n",
        "#EM ORDEM CRESCENTE AO D.C., COMO NO DATABANK:\n",
        "gases = ('He','H2','CO2','O2','H2S','CO','N2','CH4','C2H4','C2H6','C3H6','C3H8','SF6') #referentes aos dados de permeabilidade\n",
        "gases_kinetic_diameter = {'He':2.551, #Angstron, https://doi.org/10.1039/B802426J\n",
        "                          'H2':2.8585,\n",
        "                          'CO2':3.3,\n",
        "                          'O2':3.467,\n",
        "                          'Ar':3.542,\n",
        "                          'H2S':3.623,\n",
        "                          'CO':3.69,\n",
        "                          'N2':3.72,\n",
        "                          'CH4':3.758,\n",
        "                          'C2H4':4.163,\n",
        "                          'C2H6':4.443,\n",
        "                          'C3H6':4.678,\n",
        "                          'C3H8':4.709,\n",
        "                          'SF6':5.128,\n",
        "                          'none':0}\n",
        "gases_effec_diameter = {'He':0.178, #nm, T>Tg\n",
        "                        'H2':0.214,\n",
        "                        'CO2':0.302,\n",
        "                        'O2':0.289,\n",
        "                        'Ar':0.297,\n",
        "                        'H2S':np.nan,\n",
        "                        'CO':0.304,\n",
        "                        'N2':0.304,\n",
        "                        'CH4':0.318,\n",
        "                        'C2H4':0.338,\n",
        "                        'C2H6':0.346,\n",
        "                        'C3H6':0.352,\n",
        "                        'C3H8':0.367,\n",
        "                        'SF6':np.nan,\n",
        "                        'none':0}\n",
        "gases_molar_mass = {'He':4.00, #g/mol\n",
        "                    'H2':2.02,\n",
        "                    'CO2':44.01,\n",
        "                    'O2':31.98,\n",
        "                    'Ar':39.95,\n",
        "                    'H2S':34.10,\n",
        "                    'CO':28.01,\n",
        "                    'N2':28.00,\n",
        "                    'CH4':16.04,\n",
        "                    'C2H4':28.05,\n",
        "                    'C2H6':30.07,\n",
        "                    'C3H6':42.08,\n",
        "                    'C3H8':44.09,\n",
        "                    'SF6':146.06,\n",
        "                    'none':0.}\n",
        "gases_polarizability = {'He':2.04956, #1e-25.cm-3, https://doi.org/10.1039/B802426J, (other: https://cccbdb.nist.gov/pollistx.asp)\n",
        "                        'H2':8.042,\n",
        "                        'CO2':29.11,\n",
        "                        'O2':15.812,\n",
        "                        'Ar':16.411,\n",
        "                        'H2S':38.66,\n",
        "                        'CO':19.5,\n",
        "                        'N2':17.403,\n",
        "                        'CH4':25.93,\n",
        "                        'C2H4':42.52,\n",
        "                        'C2H6':44.5,\n",
        "                        'C3H6':62.6,\n",
        "                        'C3H8':63.3,\n",
        "                        'SF6':65.4,\n",
        "                        'none':0.}\n",
        "\n",
        "\n",
        "gases_kinetic_diameter_inverse = {}\n",
        "for i in gases_kinetic_diameter.keys():\n",
        "  gases_kinetic_diameter_inverse[ gases_kinetic_diameter[i] ] = i\n",
        "\n",
        "gases_effec_diameter_inverse = {}\n",
        "for i in gases_effec_diameter.keys():\n",
        "  gases_effec_diameter_inverse[ gases_effec_diameter[i] ] = i\n",
        "                        \n",
        "#frequencia de dados para cada gas em situação \"pura\" e \"mixtura\"\n",
        "count_pure = {}\n",
        "count_mixture = {}\n",
        "\n",
        "\n",
        "#nome das colunas correspondentes à características da membrana e do processo e \n",
        "#seus respectivos índices na coluna\n",
        "#EM ORDEM:\n",
        "columns_membrane = ['type', 'description', 'support_material', 'configuration', 'subtype',\n",
        "                    'filler_loading', 'mean_thickness', 'mean_pore_size', 'pore_size_type',\n",
        "                    'total_pore_volume', 'micropore_volume', 'specific_surface_area',\n",
        "                      'aging']\n",
        "columns_process = ['surface_area', 'temperature', 'feed_pressure', 'permeate_pressure',\n",
        "                   'delta_pressure', 'feed_flow_rate', 'sweep_gas', 'sweep_gas_flow',\n",
        "                   'stage_cut']\n",
        "columns_others = ['provided_data_type', 'in_reference_data_location', 'reference', 'url']\n",
        "\n",
        "columns_membrane_index = {}\n",
        "columns_process_index = {}\n",
        "columns_others_index = {}\n",
        "\n",
        "#A performance de cada gás foi representada pela seguintes variáveis:\n",
        "prefix1='x_' #Fração mássica/molar/volumétrica\n",
        "prefix2='Py_' #Permeabilidade\n",
        "prefix3='Pe_' #Permeância\n",
        "\n",
        "#VARIÁVEIS AUXILIARES:\n",
        "dados = pd.DataFrame() #Dataframe a ser utilizados para a previsão. Versão refinada."
      ],
      "metadata": {
        "id": "lF5GegZeiqgO"
      },
      "execution_count": null,
      "outputs": []
    },
    {
      "cell_type": "markdown",
      "source": [
        "##GitHub info"
      ],
      "metadata": {
        "id": "7hw5ZX-UrwPZ"
      }
    },
    {
      "cell_type": "code",
      "source": [
        "git_username = 'tenoriolms' #username no GitHub\n",
        "git_repository = 'databank_CH4' #Nome do repositório\n",
        "\n",
        "git_token = 'não pode' #token para acesso do repositório.\n",
        "#O github possui um algoritmo para verificar se dentro de cada arquivo importado/commitado\n",
        "#existe o token de acesso criado, que é secreto. Caso existir, esse token é revogado.\n",
        "#Como esse notebook irá ser exportado para o github. O token não pode ser escrito aqui.\n",
        "\n",
        "!git config --global user.email \"lhucas_tenorio@hotmail.com\"\n",
        "!git config --global user.name \"tenoriolms\""
      ],
      "metadata": {
        "id": "8b3c8hLXgxzf"
      },
      "execution_count": null,
      "outputs": []
    },
    {
      "cell_type": "markdown",
      "source": [
        "#Funções"
      ],
      "metadata": {
        "id": "FCyT9E2Q5mgs"
      }
    },
    {
      "cell_type": "markdown",
      "source": [
        "##ID(index,df)"
      ],
      "metadata": {
        "id": "vtgMNNwklJU7"
      }
    },
    {
      "cell_type": "code",
      "source": [
        "#ID = string utilizada para identificar uma membrana e suas circunstâncias de utilização no banco de dados\n",
        "#A ID é a soma das variáveis (em forma de strings) que podem variar em uma dada referência\n",
        "def ID(i, df):\n",
        "  if i in ID_dict:\n",
        "    return ID_dict[i]\n",
        "  else:\n",
        "    \n",
        "    aux = str(df['type'][i]) + str(df['description'][i]) \\\n",
        "    + str(df['subtype'][i]) + str(df['filler_loading'][i]) \\\n",
        "    + str(df['mean_thickness'][i]) + str(df['mean_pore_size'][i]) \\\n",
        "    + str(df['specific_surface_area'][i]) + str(df['aging'][i]) \\\n",
        "    + str(df['temperature'][i]) + str(df['feed_pressure'][i]) \\\n",
        "    + str(df['permeate_pressure'][i]) + str(df['delta_pressure'][i]) \\\n",
        "    + str(df['feed_flow_rate'][i]) + str(df['stage_cut'][i]) \\\n",
        "    + str(df['reference'][i]) + str(df['in_reference_data_location'][i])\n",
        "    ID_dict[i] = aux\n",
        "    \n",
        "    return aux"
      ],
      "metadata": {
        "id": "Dl2BDR83sBUB"
      },
      "execution_count": null,
      "outputs": []
    },
    {
      "cell_type": "markdown",
      "source": [
        "##get_key(val,my_dict))"
      ],
      "metadata": {
        "id": "bAibWU-Ace4Z"
      }
    },
    {
      "cell_type": "code",
      "source": [
        "#Dado um determinado \"valor\" de um dicionário, qual é a \"chave\" associada a ele?\n",
        "def get_key(val,my_dict): #dict = key : value\n",
        "    for key, value in my_dict.items():\n",
        "         if val == value:\n",
        "             return key\n",
        " \n",
        "    return \"get_key function: There is no such Key\""
      ],
      "metadata": {
        "id": "CeZ4uSBD0e8R"
      },
      "execution_count": null,
      "outputs": []
    },
    {
      "cell_type": "markdown",
      "source": [
        "##submit_file(git_export_file)"
      ],
      "metadata": {
        "id": "g4VQjLibWZFZ"
      }
    },
    {
      "cell_type": "code",
      "source": [
        "#exportar para o GitHub\n",
        "def submit_file(git_export_file):\n",
        "  !git clone https://{git_token}@github.com/{git_username}/{git_repository}\n",
        "  !cp {git_export_file} {git_repository}\n",
        "  %cd {git_repository}\n",
        "  !git add {git_export_file}\n",
        "  !git commit -m 'Add/Atualizar arquivo {input_file}'\n",
        "  !git push -u origin\n",
        "  %cd ..\n",
        "  !rm -rf {git_repository}"
      ],
      "metadata": {
        "id": "xDNh_KvisG17"
      },
      "execution_count": null,
      "outputs": []
    },
    {
      "cell_type": "markdown",
      "source": [
        "##import_file(git_import_file)"
      ],
      "metadata": {
        "id": "Uy4iamAaehgK"
      }
    },
    {
      "cell_type": "code",
      "source": [
        "#importar um arquivo do GitHub\n",
        "def import_file(git_import_file):\n",
        "  !git clone https://{git_token}@github.com/{git_username}/{git_repository}\n",
        "  !cp {git_repository}/{git_import_file} .\n",
        "  !rm -rf {git_repository}"
      ],
      "metadata": {
        "id": "xJnMRW1vsXxJ"
      },
      "execution_count": null,
      "outputs": []
    },
    {
      "cell_type": "markdown",
      "source": [
        "##Zscores(df_for_scaled, df_reference)"
      ],
      "metadata": {
        "id": "YTXQNw2ofLyY"
      }
    },
    {
      "cell_type": "code",
      "source": [
        "#Escalonar cada coluna de um DataFrame utilizando o \"z score\"\n",
        "def Zscores(df_for_scaled, df_reference):\n",
        "  if (any(df_for_scaled.columns != df_reference.columns)):\n",
        "    print('Zscores function: Dataframes com colunas diferentes')\n",
        "    return\n",
        "  \n",
        "  print(f'Zscores function: columns_reference: {df_reference.columns}')\n",
        "  for i in df_for_scaled.columns:\n",
        "    if (df_for_scaled[i].dtype!=object):\n",
        "      df_for_scaled[i] = (df_for_scaled[i] - df_reference[i].mean()) / df_reference[i].std()\n",
        "  #return df_for_scaled"
      ],
      "metadata": {
        "id": "eJSvt3-Nn1ZF"
      },
      "execution_count": null,
      "outputs": []
    },
    {
      "cell_type": "markdown",
      "source": [
        "##undo_Zscores(df_scaled, df_reference)"
      ],
      "metadata": {
        "id": "3CZULGDEKYG5"
      }
    },
    {
      "cell_type": "code",
      "source": [
        "#desfazer o escalonamento realizado para cada coluna de um DataFrame utilizando\n",
        "#o \"z score\"\n",
        "def undo_Zscores(df_scaled, df_reference):\n",
        "  if (any(df_scaled.columns != df_reference.columns)):\n",
        "    print('undo_Zscores function: Dataframes com colunas diferentes')\n",
        "    return\n",
        "  \n",
        "  print(f'undo_Zscores function: columns_reference: {df_reference.columns}')\n",
        "  for i in df_scaled.columns:\n",
        "    if (df_scaled[i].dtype!=object):\n",
        "      df_scaled[i] = df_scaled[i]*df_reference[i].std() + df_reference[i].mean()\n",
        "  #return df_scaled"
      ],
      "metadata": {
        "id": "yvtWO85roBUV"
      },
      "execution_count": null,
      "outputs": []
    },
    {
      "cell_type": "markdown",
      "source": [
        "##normalize(df_for_norm, df_reference)"
      ],
      "metadata": {
        "id": "533CHpps0heS"
      }
    },
    {
      "cell_type": "code",
      "source": [
        "#Normalizar cada coluna de um DataFrame\n",
        "def normalize(df_for_norm, df_reference):\n",
        "  if (any(df_for_norm.columns != df_reference.columns)):\n",
        "    print('normalize function: Dataframes com colunas diferentes')\n",
        "    return\n",
        "  \n",
        "  print(f'normalize function: columns_reference: {df_reference.columns}')\n",
        "  for i in df_for_norm.columns:\n",
        "    if (df_for_norm[i].dtype!=object):\n",
        "      df_for_norm[i] = (df_for_norm[i] - df_reference[i].min()) / (df_reference[i].max() - df_reference[i].min())\n",
        "  #return df_for_norm"
      ],
      "metadata": {
        "id": "2kQ9h83s0e3J"
      },
      "execution_count": null,
      "outputs": []
    },
    {
      "cell_type": "markdown",
      "source": [
        "##undo_normalize(df_for_norm, df_reference)"
      ],
      "metadata": {
        "id": "uA03xf8y1IzC"
      }
    },
    {
      "cell_type": "code",
      "source": [
        "#desfazer a normalização realizada para cada coluna de um DataFrame\n",
        "def undo_normalize(df_normalized, df_reference):\n",
        "  if (any(df_normalized.columns != df_reference.columns)):\n",
        "    print('undo_normalize function: Dataframes com colunas diferentes')\n",
        "    return\n",
        "  \n",
        "  print(f'undo_normalize function: columns_reference: {df_reference.columns}')\n",
        "  for i in df_normalized.columns:\n",
        "    if (df_normalized[i].dtype!=object):\n",
        "      df_normalized[i] = df_normalized[i]*(df_reference[i].max() - df_reference[i].min()) + df_reference[i].min()\n",
        "  #return df_normalized"
      ],
      "metadata": {
        "id": "PDLjbRE21IzD"
      },
      "execution_count": null,
      "outputs": []
    },
    {
      "cell_type": "markdown",
      "source": [
        "##str2int_simple_encoder(df,columns='all')"
      ],
      "metadata": {
        "id": "MNDQkSx6ASv7"
      }
    },
    {
      "cell_type": "code",
      "source": [
        "def str2int_simple_encoder(df,columns='all'):\n",
        "  import pandas as pd\n",
        "  \n",
        "  id_dict = {}\n",
        "  if (columns=='all'):\n",
        "    \n",
        "    for i in df.columns:\n",
        "      if (df[i].dtype==object):\n",
        "        id_dict[i] = {}\n",
        "        unique_values = df[i].unique()\n",
        "        id_dict[i] = {name: id + 1 for id, name in enumerate(unique_values)}\n",
        "\n",
        "        df[i] = df[i].apply(lambda row, value : value[row], value = id_dict[i] )\n",
        "\n",
        "  else:\n",
        "    \n",
        "    for i in columns:\n",
        "      if ( (df[i].dtype==object) and (i in df.columns) ):\n",
        "        id_dict[i] = {}\n",
        "        unique_values = df[i].unique()\n",
        "        id_dict[i] = {name: id + 1 for id, name in enumerate(unique_values)}\n",
        "\n",
        "        df[i] = df[i].apply(lambda row, value : value[row], value = id_dict[i] )\n",
        "      else:\n",
        "        print('str2int_simple_encoder: coluna especificada não é do tipo \"object\" ou não existe no dataframe')\n",
        "        return\n",
        "  \n",
        "  return id_dict"
      ],
      "metadata": {
        "id": "sC623raeAQvK"
      },
      "execution_count": null,
      "outputs": []
    },
    {
      "cell_type": "code",
      "source": [
        "#como era feito anteriormente:\n",
        "'''\n",
        "df = dados\n",
        "\n",
        "#Criar os dicionários para os valores únicos das colunas categóricas\n",
        "type_id = {}\n",
        "aux = df['type'].unique()\n",
        "for i in aux:\n",
        "  type_id[i] = np.where(aux==i)[0][0]+1\n",
        "print(type_id)\n",
        "\n",
        "#converter os valores categóricos da coluna \"type\" por numéricos\n",
        "df['type'] = df['type'].apply(lambda row, value : value[row],\n",
        "                                                    value = type_id )\n",
        "\n",
        "'''"
      ],
      "metadata": {
        "id": "NQ-4x_yBAqdL",
        "colab": {
          "base_uri": "https://localhost:8080/",
          "height": 87
        },
        "outputId": "04815107-4c94-4467-efa4-8387b59cc3fa"
      },
      "execution_count": null,
      "outputs": [
        {
          "output_type": "execute_result",
          "data": {
            "text/plain": [
              "'\\ndf = dados\\n\\n#Criar os dicionários para os valores únicos das colunas categóricas\\ntype_id = {}\\naux = df[\\'type\\'].unique()\\nfor i in aux:\\n  type_id[i] = np.where(aux==i)[0][0]+1\\nprint(type_id)\\n\\n#converter os valores categóricos da coluna \"type\" por numéricos\\ndf[\\'type\\'] = df[\\'type\\'].apply(lambda row, value : value[row],\\n                                                    value = type_id )\\n\\n'"
            ],
            "application/vnd.google.colaboratory.intrinsic+json": {
              "type": "string"
            }
          },
          "metadata": {},
          "execution_count": 12
        }
      ]
    },
    {
      "cell_type": "markdown",
      "source": [
        "##str2int_hot_encoder(df,columns='all')"
      ],
      "metadata": {
        "id": "3lwimYi9Tce_"
      }
    },
    {
      "cell_type": "code",
      "source": [
        "def str2int_hot_encoder(df,columns='all'):\n",
        "  import pandas as pd\n",
        "  \n",
        "  id_dict = {}\n",
        "\n",
        "  if (columns=='all'):\n",
        "    columns = []\n",
        "    for i in df.columns:\n",
        "      if (df[i].dtype==object):\n",
        "        columns += [i]\n",
        "  \n",
        "  for i in columns:\n",
        "    if ( (df[i].dtype==object) and (i in df.columns) ):\n",
        "      id_dict[i] = {}\n",
        "      unique_values = df[i].unique()\n",
        "      for id,name in enumerate(unique_values):\n",
        "        aux = [0]*(len(unique_values)-1)\n",
        "        aux.insert(id,1)\n",
        "        id_dict[i][name] = aux\n",
        "\n",
        "      transformed_column = df[i].apply(lambda row, value : value[row], value = id_dict[i] )\n",
        "      \n",
        "      new_colunms = []\n",
        "      for count,category in enumerate(id_dict[i].keys()): #value = valores categoricos da coluna 'i'\n",
        "        new_colunms += [i+'_'+category]\n",
        "        df.insert( df.columns.get_loc(i) + count +1, new_colunms[count], np.nan)\n",
        "      \n",
        "      df.drop( [i], axis=1, inplace=True )\n",
        "      \n",
        "      for index in transformed_column.index:\n",
        "        df.loc[index, new_colunms] = transformed_column[index]\n",
        "      \n",
        "    else:\n",
        "      print('str2int_simple_encoder: coluna especificada não é do tipo \"object\" ou não existe no dataframe')\n",
        "      return\n",
        "  \n",
        "  return id_dict"
      ],
      "metadata": {
        "id": "y2XtOY8QJM9J"
      },
      "execution_count": null,
      "outputs": []
    },
    {
      "cell_type": "markdown",
      "source": [
        "##validation_curve_change_param(model,x_train,y_train,parameters = {})"
      ],
      "metadata": {
        "id": "bllTD27nY5by"
      }
    },
    {
      "cell_type": "code",
      "source": [
        "def validation_curve_change_param(model,\n",
        "                                  x_train,\n",
        "                                  y_train,\n",
        "                                  parameters = {}, # definindo os valores de parâmetros a serem testados\n",
        "                                  ylim=None\n",
        "                                  ):\n",
        "  '''\n",
        "  Example:\n",
        "  parameters = {'C': np.arange(10000, 100000, 10000),\n",
        "              'epsilon': [ 1, 5, 10,100,200,300,400,500,600],\n",
        "              'tol': [0.001,0.01,0.1,1,5,10,100,1000,2000],\n",
        "              'gamma': np.arange(0.01, 1.2, 0.05), \n",
        "              }\n",
        "  validation_curve_change_param(model = SVR(kernel='rbf'),\n",
        "                                x_train = x_train,\n",
        "                                y_train = y_train,\n",
        "                                parameters = parameters\n",
        "                                )\n",
        "  '''\n",
        "  # Lista para armazenar os valores \"Y\" para cada hiperparâmetro\n",
        "  lista_train_scores_mean = []\n",
        "  lista_train_scores_std = []\n",
        "  lista_test_scores_mean = []\n",
        "  lista_test_scores_std = []\n",
        "\n",
        "  count = 0\n",
        "  for key, value in parameters.items():\n",
        "    \n",
        "\n",
        "\n",
        "    # calculando a curva de validação\n",
        "    train_scores, test_scores = sklearn.model_selection.validation_curve(\n",
        "        model, x_train, y_train, \n",
        "        param_name=key, \n",
        "        param_range=value,\n",
        "        scoring=\"r2\", \n",
        "        n_jobs=-1\n",
        "        )\n",
        "\n",
        "    # médias e desvios-padrão dos resultados da validação cruzada (para cada ponto da curva)\n",
        "    lista_train_scores_mean.append( np.mean(train_scores, axis=1) )\n",
        "    lista_train_scores_std.append( np.std(train_scores, axis=1) )\n",
        "    lista_test_scores_mean.append( np.mean(test_scores, axis=1) )\n",
        "    lista_test_scores_std.append( np.std(test_scores, axis=1) )\n",
        "\n",
        "  \n",
        "    ## GRAFICO ##\n",
        "    plt.subplots(1,1, \n",
        "                 #sharex = True, sharey = True\n",
        "                 )\n",
        "\n",
        "    # plotando curva correspondente ao treino\n",
        "    plt.plot(value, #https://matplotlib.org/stable/tutorials/introductory/pyplot.html\n",
        "             lista_train_scores_mean[count],\n",
        "             '.-',\n",
        "             label='Treino')\n",
        "    plt.fill_between(value,\n",
        "                     lista_train_scores_mean[count] - lista_train_scores_std[count],\n",
        "                     lista_train_scores_mean[count] + lista_train_scores_std[count],\n",
        "                     alpha=0.1)\n",
        "    \n",
        "    # plotando curva correspondente ao teste\n",
        "    plt.plot(value, \n",
        "             lista_test_scores_mean[count],\n",
        "             '.-',\n",
        "             label='Teste')\n",
        "    plt.fill_between(value, \n",
        "                     lista_test_scores_mean[count] - lista_test_scores_std[count],\n",
        "                     lista_test_scores_mean[count] + lista_test_scores_std[count],\n",
        "                     alpha=0.1)\n",
        "\n",
        "    # formatando gráfico\n",
        "    if (count==0): plt.title('Curva de Validação')\n",
        "    plt.xlabel(key)\n",
        "    plt.ylabel(\"$R^2$\")\n",
        "    plt.legend(loc=\"best\");\n",
        "    plt.ylim(ylim)\n",
        "    ## GRAFICO ##\n",
        "    \n",
        "    count +=1"
      ],
      "metadata": {
        "id": "tnfeck5uY2-R"
      },
      "execution_count": null,
      "outputs": []
    },
    {
      "cell_type": "markdown",
      "source": [
        "##display_score(m,x_train,x_test,y_train,y_test))"
      ],
      "metadata": {
        "id": "OHgl4ej_o2wz"
      }
    },
    {
      "cell_type": "markdown",
      "source": [
        "Out-of-bag parameter:\n",
        "\n",
        "https://towardsdatascience.com/what-is-out-of-bag-oob-score-in-random-forest-a7fa23d710\n",
        "\n",
        "https://www.analyticsvidhya.com/blog/2020/12/out-of-bag-oob-score-in-the-random-forest-algorithm/\n",
        "\n",
        "https://stats.stackexchange.com/questions/88980/why-on-average-does-each-bootstrap-sample-contain-roughly-two-thirds-of-observat\n",
        "\n",
        "https://stats.stackexchange.com/questions/198839/evaluate-random-forest-oob-vs-cv"
      ],
      "metadata": {
        "id": "lgi1bQa7SxAM"
      }
    },
    {
      "cell_type": "code",
      "source": [
        "def c_coeff(v_real = 'class numpy.ndarray',\n",
        "            v_pred = 'class numpy.ndarray'\n",
        "            ): #https://www.sciencedirect.com/science/article/abs/pii/S0376738817311572?via%3Dihub\n",
        "  '''\n",
        "  Coeficiente proposto por Wessling et al (1997) (https://doi.org/10.1016/0376-7388(93)E0168-J)\n",
        "\n",
        "  The neural network works predictively if C is smaller than 1. For C=l, the\n",
        "  predicted permeability for an unknown polymer would be  equal to the average\n",
        "  permeability of all polymers presented in the set (which is, in fact, useless).\n",
        "\n",
        "  '''\n",
        "  v_real = v_real.ravel()\n",
        "  denominador = sum(abs(v_real.mean() - v_real))\n",
        "  if denominador!=0:\n",
        "    return sum(abs(v_pred-v_real))/denominador\n",
        "  else:\n",
        "    return np.nan"
      ],
      "metadata": {
        "id": "C_hoLbkqK5Qi"
      },
      "execution_count": null,
      "outputs": []
    },
    {
      "cell_type": "code",
      "source": [
        "def rmse(v_real,v_pred): \n",
        "  return np.sqrt(sklearn.metrics.mean_squared_error(v_real,v_pred)) #leia sobre sklearn.metrics.mean_squared_error\n",
        "def r2(v_real,v_pred): \n",
        "  return sklearn.metrics.r2_score(v_real,v_pred) #leia sobre sklearn.metrics.r2_score\n",
        "def mape(v_real,v_pred):\n",
        "  return sklearn.metrics.mean_absolute_percentage_error(v_real,v_pred) #https://scikit-learn.org/stable/modules/model_evaluation.html#mean-absolute-percentage-error\n",
        "\n",
        "\n",
        "##função para avaliar RMSE, R2 e OOB_score\n",
        "def display_score(m,x_train,x_test,y_train,y_test,delog_y=False, base=10):\n",
        "  \n",
        "  \n",
        "\n",
        "  if (delog_y==False):\n",
        "    y_train_pred = m.predict(x_train)\n",
        "    y_test_pred = m.predict(x_test)\n",
        "  else:\n",
        "    y_train_pred = np.power(base, m.predict(x_train))\n",
        "    y_test_pred = np.power(base, m.predict(x_test))\n",
        "    y_train = np.power(base,y_train)\n",
        "    y_test = np.power(base,y_test)\n",
        "    \n",
        "  res = [ [rmse( y_train,y_train_pred ), r2( y_train,y_train_pred ),\n",
        "           mape( y_train,y_train_pred ), c_coeff( y_train,y_train_pred )],\n",
        "          [rmse( y_test,y_test_pred ), r2( y_test,y_test_pred ), \n",
        "           mape( y_test,y_test_pred ), c_coeff( y_test,y_test_pred )] ]\n",
        "           #a função display score irá retornar uma tabela\n",
        "    \n",
        "  score = pd.DataFrame(res, columns=['RMSE','R2','MAPE','C_coeff'], index = ['Treino','Teste'])\n",
        "\n",
        "  if hasattr(m, 'oob_score_'): #https://www.programiz.com/python-programming/methods/built-in/hasattr\n",
        "    \n",
        "    if (delog_y==False):\n",
        "      score.loc['OOB'] = [rmse(y_train, m.oob_prediction_), m.oob_score_, \n",
        "                          mape(y_train, m.oob_prediction_), c_coeff(y_train,m.oob_prediction_)]\n",
        "    else:\n",
        "      y_train_pred = np.power(base, m.oob_prediction_)\n",
        "      score.loc['OOB'] = [rmse(y_train, y_train_pred), m.oob_score_, \n",
        "                          mape(y_train, y_train_pred), c_coeff(y_train,y_train_pred)]\n",
        "\n",
        "  display(score)"
      ],
      "metadata": {
        "id": "T5sUq8jfoPXM"
      },
      "execution_count": null,
      "outputs": []
    },
    {
      "cell_type": "markdown",
      "source": [
        "##plot_permutation_importance( model, x_val, y_val, x_val_columns )"
      ],
      "metadata": {
        "id": "k_j36m1q3rmj"
      }
    },
    {
      "cell_type": "code",
      "source": [
        "def plot_permutation_importance( model, x_val, y_val, x_val_columns ):\n",
        "  #https://medium.com/horadecodar/gr%C3%A1ficos-de-barra-com-matplotlib-85628bfc4351#:~:text=barh()%3A,os%20seguintes%20par%C3%A2metros%3A\n",
        "  from sklearn.inspection import permutation_importance\n",
        "\n",
        "  r = permutation_importance(model, x_val, y_val,\n",
        "                             n_repeats=30,\n",
        "                             scoring='r2',\n",
        "                             random_state=0)\n",
        "\n",
        "  df = pd.DataFrame( columns=['mean','std'] )\n",
        "\n",
        "  for i in r.importances_mean.argsort()[::-1]:\n",
        "    if r.importances_mean[i] - 2 * r.importances_std[i] > 0:\n",
        "      #print(f\"{x_val_columns[i]:<20}\"\n",
        "      #      f\"{r.importances_mean[i]:.3f}\"\n",
        "      #      f\" +/- {r.importances_std[i]:.3f}\")\n",
        "      df.loc[x_val_columns[i]] = [r.importances_mean[i], r.importances_std[i]]\n",
        "  \n",
        "  return df"
      ],
      "metadata": {
        "id": "zzKBiry63qqB"
      },
      "execution_count": null,
      "outputs": []
    },
    {
      "cell_type": "markdown",
      "source": [
        "##predictions_separate_by_a_variable(model, x_train, x_test, y_test, variable_in_original_databank, original_databank_train, original_databank_test, variable_subgroup = 'all' )"
      ],
      "metadata": {
        "id": "18uRLyvhzXXT"
      }
    },
    {
      "cell_type": "code",
      "source": [
        "def predictions_separate_by_a_variable(model,\n",
        "                                       x_train,\n",
        "                                       x_test,\n",
        "                                       y_test,\n",
        "                                       variable_in_original_databank, #coluna \n",
        "                                       original_databank_train,\n",
        "                                       original_databank_test,\n",
        "                                       variable_subgroup = 'all', #coluna_subgrupo\n",
        "                                       delog_y = False,\n",
        "                                       base = 10\n",
        "                                       ):\n",
        "  '''\n",
        "  DEFINIÇÕES E HIPÓTESES:\n",
        "  Denomina-se databank original como aquele cujos valores não passaram por\n",
        "  transformações (encoders, padronização, normalização etc.), que são\n",
        "  iguais/semelhantes ao escrito na fonte de referência.\n",
        "  A conexão entre os conjuntos de teste/treino e os databanks originais são\n",
        "  estabelecidos pelos índices dos mesmos.\n",
        "  \n",
        "  model = modelo\n",
        "  x_train = conjunto de treino com variáveis de entrada\n",
        "  x_test = conjunto de teste com variáveis de entrada\n",
        "  y_test = conjunto de teste com variáveis alvo\n",
        "  variable_in_original_databank = COLUNA CATEGÓRICA cujos valores únicos\n",
        "                                  serviram como referência para separar as\n",
        "                                  predições\n",
        "  original_databank_train = databank original, com valores originais NÃO\n",
        "                            escalonados e sem transformações do conjunto de\n",
        "                            treino\n",
        "  original_databank_test = databank original, com valores originais NÃO\n",
        "                           escalonados e sem transformações do conjunto de\n",
        "                           teste\n",
        "  subgroup = COLUNA CATEGÓRICA cujos valores únicos serviram como referência\n",
        "             para separar as predições em subgrupos (OPCIONAL)\n",
        "\n",
        "  '''\n",
        "  #R2 para cada conjunto de teste separado por \"gases\"\n",
        "  tabela = pd.DataFrame([], columns=[ 'fração_treino (%)','fração_teste (%)', 'R2_teste', 'RMSE_teste', 'MAPE_teste', 'C_coeff_teste' ] )\n",
        "\n",
        "  #Pegar a COLUNA ORIGINAL de \"variable\" (valores originais direto do databank de origem)\n",
        "  original_column_x_test = original_databank_test.loc[ x_test.index.values, variable_in_original_databank ]\n",
        "  original_column_x_train = original_databank_train.loc[ x_train.index.values, variable_in_original_databank ]\n",
        "\n",
        "  #Fração treino & Fração teste\n",
        "  x_train_size = int(x_train.shape[0])\n",
        "  x_test_size = int(x_test.shape[0])\n",
        "\n",
        "  unique_values = set(original_column_x_test.unique().tolist() + original_column_x_train.unique().tolist())\n",
        "  for i in unique_values:\n",
        "    #print('    i=',i)\n",
        "    index_i = original_column_x_test.loc[ original_column_x_test==i ].index\n",
        "    separate_x_test = x_test.loc[ index_i ]\n",
        "    separate_y_test = y_test.loc[ index_i ]\n",
        "    \n",
        "    #Tamanho da Fração treino & Fração teste\n",
        "    index_i_x_train = original_column_x_train.loc[ original_column_x_train==i ].index\n",
        "    separate_x_train_size = int(index_i_x_train.size)\n",
        "    separate_x_test_size = int(separate_x_test.shape[0])\n",
        "\n",
        "    #Salvar parametros na tabela\n",
        "    fracao_treino = np.nan if x_train_size==0 else (separate_x_train_size/x_train_size)\n",
        "    fracao_teste  = np.nan if x_test_size==0 else (separate_x_test_size/x_test_size)\n",
        "    \n",
        "    if (index_i.size==0):\n",
        "      resultados_teste = [np.nan]*4\n",
        "    else:\n",
        "      valor_real = separate_y_test.values\n",
        "      valor_predito = model.predict(separate_x_test.values)\n",
        "      #deslogaritmizar Y\n",
        "      if (delog_y == True):\n",
        "        valor_real = np.power( base, valor_real )\n",
        "        valor_predito = np.power( base, valor_predito )\n",
        "      resultados_teste = [r2( valor_real, valor_predito ),\n",
        "                          rmse( valor_real, valor_predito ),\n",
        "                          mape( valor_real, valor_predito ),\n",
        "                          c_coeff( valor_real, valor_predito )]\n",
        "\n",
        "    tabela.loc[ i ] = [f'{fracao_treino:.2%} ({separate_x_train_size})',\n",
        "                       f'{fracao_teste:.2%} ({separate_x_test_size})',\n",
        "                       f'{resultados_teste[0]:.5}',\n",
        "                       f'{resultados_teste[1]:.5}',\n",
        "                       f'{resultados_teste[2]:.5}',\n",
        "                       f'{resultados_teste[3]:.5}']\n",
        "    \n",
        "\n",
        "    #laço para os subgrupo 'i' dentro do grupo 'i' - mesma lógica do codigo escrito acima\n",
        "    if variable_subgroup!='all':\n",
        "      subgroup_original_column_x_test = original_databank_test.loc[ index_i, variable_subgroup ]\n",
        "      subgroup_original_column_x_train = original_databank_train.loc[ index_i_x_train, variable_subgroup ]\n",
        "\n",
        "      x_train_size_subgroup = int(index_i_x_train.size)\n",
        "      x_test_size_subgroup = int(index_i.size)\n",
        "\n",
        "      #print('treino=',x_train_size_subgroup)\n",
        "      #print('teste=',x_test_size_subgroup)\n",
        "      #print()\n",
        "\n",
        "      unique_values_subgroup = set(subgroup_original_column_x_test.unique().tolist() + subgroup_original_column_x_train.unique().tolist())\n",
        "      for j in unique_values_subgroup:\n",
        "        #print('j=',j)\n",
        "        index_i = subgroup_original_column_x_test.loc[ subgroup_original_column_x_test==j ].index\n",
        "        separate_x_test = x_test.loc[ index_i ]\n",
        "        separate_y_test = y_test.loc[ index_i ]\n",
        "\n",
        "        #Tamanho da Fração treino & Fração teste\n",
        "        index_i_x_train = subgroup_original_column_x_train.loc[ subgroup_original_column_x_train==j ].index\n",
        "        separate_x_train_size = int(index_i_x_train.size)\n",
        "        separate_x_test_size = int(separate_x_test.shape[0])\n",
        "        \n",
        "        #Salvar parametros na tabela\n",
        "        fracao_treino = np.nan if x_train_size_subgroup==0 else (separate_x_train_size/x_train_size_subgroup)\n",
        "        fracao_teste  = np.nan if x_test_size_subgroup==0 else (separate_x_test_size/x_test_size_subgroup)\n",
        "        \n",
        "        if (index_i.size==0):\n",
        "          resultados_teste = [np.nan]*4\n",
        "        else:\n",
        "          valor_real = separate_y_test.values\n",
        "          valor_predito = model.predict(separate_x_test.values)\n",
        "          #deslogaritmizar Y\n",
        "          if (delog_y == True):\n",
        "            valor_real = np.power( base, valor_real )\n",
        "            valor_predito = np.power( base, valor_predito )\n",
        "          resultados_teste = [r2( valor_real, valor_predito ),\n",
        "                              rmse( valor_real, valor_predito ),\n",
        "                              mape( valor_real, valor_predito ),\n",
        "                              c_coeff( valor_real, valor_predito )]\n",
        "\n",
        "        tabela.loc[ str(i)+' / '+str(j) ] = [f'{fracao_treino:.2%} ({separate_x_train_size})',\n",
        "                                             f'{fracao_teste:.2%} ({separate_x_test_size})',\n",
        "                                             f'{resultados_teste[0]:.5}',\n",
        "                                             f'{resultados_teste[1]:.5}',\n",
        "                                             f'{resultados_teste[2]:.5}',\n",
        "                                             f'{resultados_teste[3]:.5}'\n",
        "                                             ]\n",
        "\n",
        "  #deslogaritmizar Y\n",
        "  valor_real = y_test.values\n",
        "  valor_predito = model.predict(x_test.values)\n",
        "  if (delog_y == True):\n",
        "    valor_real = np.power( base, valor_real )\n",
        "    valor_predito = np.power( base, valor_predito )\n",
        "  \n",
        "  tabela.loc[ 'all' ] = [f'100% ({x_train_size})',\n",
        "                         f'100% ({x_test_size})',\n",
        "                         f'{r2( valor_real, valor_predito):.5}',\n",
        "                         f'{rmse( valor_real, valor_predito):.5}',\n",
        "                         f'{mape( valor_real, valor_predito):.5}',\n",
        "                         f'{c_coeff( valor_real, valor_predito):.5}'\n",
        "                         ]\n",
        "  display(tabela)"
      ],
      "metadata": {
        "id": "HRpnsv7czO_0"
      },
      "execution_count": null,
      "outputs": []
    },
    {
      "cell_type": "markdown",
      "source": [
        "##Gráficos"
      ],
      "metadata": {
        "id": "6RzP6hKOX7wa"
      }
    },
    {
      "cell_type": "markdown",
      "source": [
        "### plt_valuecounts_by(df,variable,by)"
      ],
      "metadata": {
        "id": "QM6DjLSbYA9b"
      }
    },
    {
      "cell_type": "code",
      "source": [
        "def plt_valuecounts_by(df = pd.DataFrame(),\n",
        "                       variable = [],\n",
        "                       by = '',\n",
        "                       consider_none = True,\n",
        "                       consider_zeros = True,\n",
        "                       library = 'plotly or matplotlib',\n",
        "                       matplotlib_figsize = 'default', #[width, height]\n",
        "                       matplotlib_bar_space = 0.8,\n",
        "                       matplotlib_colors = 'default'):\n",
        "  '''\n",
        "  Plotar a qtd de valores existentes da variavel=\"variable\" para cada classe da variável \"by\"\n",
        "\n",
        "  OBS.:\n",
        "  - A espessura das barras é controlada pela largura (width) da figura\n",
        "  '''\n",
        "  df = df.copy()\n",
        "\n",
        "  if (library=='plotly'):\n",
        "    #https://plotly.com/python/histograms/\n",
        "    import plotly.graph_objects as go\n",
        "\n",
        "    fig = go.Figure()\n",
        "\n",
        "    #Filtrar apenas as linha que possuem dados de \"variavel\"\n",
        "    for i in variable:\n",
        "      \n",
        "      if (consider_none==False):\n",
        "        df.loc[ df[i]=='none', i ] = np.nan\n",
        "        df.loc[ df[i]=='None', i ] = np.nan\n",
        "\n",
        "      if (consider_zeros==False):\n",
        "        df.loc[ df[i]==0, i ] = np.nan\n",
        "\n",
        "      df_aux = df.loc[ df[i].notna(), by ]\n",
        "\n",
        "      fig.add_trace(go.Histogram(\n",
        "          x=df_aux,\n",
        "          histnorm='',\n",
        "          name=i, # name used in legend and hover labels\n",
        "          #marker_color='#EB89B5',\n",
        "          #opacity=0.75\n",
        "          ))\n",
        "\n",
        "    fig.update_layout(\n",
        "        title_text=f'Quantity of data by each {by}', # title of plot\n",
        "        xaxis_title_text=by, # xaxis label\n",
        "        yaxis_title_text='Count', # yaxis label\n",
        "        bargap=0.2, # gap between bars of adjacent location coordinates\n",
        "        bargroupgap=0.1 # gap between bars of the same location coordinates\n",
        "        )\n",
        "\n",
        "    fig.show()\n",
        "  \n",
        "  elif (library=='matplotlib'): #https://matplotlib.org/stable/gallery/lines_bars_and_markers/barchart.html#sphx-glr-gallery-lines-bars-and-markers-barchart-py\n",
        "    \n",
        "    matplotlib_width_bar = 1\n",
        "    unique_by = df[by].unique()\n",
        "\n",
        "    #Definir as CORES para cada valor único da variável \"by\".\n",
        "    #Caso houver mais valores que o tamanho de \"colors_reference\", as cores serão repetidas:\n",
        "    if (matplotlib_colors=='default'):\n",
        "      matplotlib_colors = ['tab:blue','tab:orange','tab:green','tab:red','tab:purple','tab:brown','tab:pink','tab:gray','tab:olive','tab:cyan'] #Tableau Palette\n",
        "    count, colors = (0, [])\n",
        "    for i in range(len(variable)):\n",
        "      colors += [matplotlib_colors[count]]\n",
        "      count += 1\n",
        "      if (count==len(matplotlib_colors)):\n",
        "        count = 0\n",
        "    print(colors)\n",
        "\n",
        "    # tamanho da Figura #\n",
        "    if (matplotlib_figsize=='default'):\n",
        "      figsize_height = ( 0.35*len(variable) + matplotlib_bar_space )*len(unique_by) + 1\n",
        "      matplotlib_figsize = [figsize_height, 4.8]\n",
        "    print('figsize=',matplotlib_figsize)\n",
        "    fig, ax = plt.subplots(figsize=matplotlib_figsize)\n",
        "    # tamanho da Figura #\n",
        "\n",
        "    x = np.arange(len(unique_by))*( len(variable)+matplotlib_bar_space )*matplotlib_width_bar# the label locations\n",
        "    multiplier = 0\n",
        "\n",
        "    for i in variable:\n",
        "      \n",
        "      measurement = [0]*len(unique_by)\n",
        "      for j,count in zip( unique_by, np.arange(len(unique_by)) ):\n",
        "        measurement[count] = df.loc[ df[by]==j, i ].dropna().size\n",
        "\n",
        "      offset = matplotlib_width_bar * multiplier\n",
        "      graph = ax.bar(x + offset,\n",
        "                     measurement, \n",
        "                     matplotlib_width_bar, \n",
        "                     label=i, \n",
        "                     color=colors[multiplier])\n",
        "      ax.bar_label(graph, \n",
        "                   #fontsize=11, \n",
        "                   padding=3)\n",
        "      \n",
        "      multiplier += 1\n",
        "\n",
        "    ax.set_ylabel('Frequência')\n",
        "    ax.set_xticks(x + (len(variable) - 1)*matplotlib_width_bar*0.5, unique_by)\n",
        "    ax.legend(loc='best')\n",
        "    return fig, ax\n",
        "  \n",
        "  else:\n",
        "    print('Escolha uma biblioteca')"
      ],
      "metadata": {
        "id": "t98GZGb1bwUm",
        "colab": {
          "base_uri": "https://localhost:8080/",
          "height": 235
        },
        "outputId": "b0a3f017-73d5-4cd1-fca7-d4b1c8a2cecb"
      },
      "execution_count": null,
      "outputs": [
        {
          "output_type": "error",
          "ename": "NameError",
          "evalue": "ignored",
          "traceback": [
            "\u001b[0;31m---------------------------------------------------------------------------\u001b[0m",
            "\u001b[0;31mNameError\u001b[0m                                 Traceback (most recent call last)",
            "\u001b[0;32m<ipython-input-1-ca3286f3c3dc>\u001b[0m in \u001b[0;36m<module>\u001b[0;34m\u001b[0m\n\u001b[0;32m----> 1\u001b[0;31m def plt_valuecounts_by(df = pd.DataFrame(),\n\u001b[0m\u001b[1;32m      2\u001b[0m                        \u001b[0mvariable\u001b[0m \u001b[0;34m=\u001b[0m \u001b[0;34m[\u001b[0m\u001b[0;34m]\u001b[0m\u001b[0;34m,\u001b[0m\u001b[0;34m\u001b[0m\u001b[0;34m\u001b[0m\u001b[0m\n\u001b[1;32m      3\u001b[0m                        \u001b[0mby\u001b[0m \u001b[0;34m=\u001b[0m \u001b[0;34m''\u001b[0m\u001b[0;34m,\u001b[0m\u001b[0;34m\u001b[0m\u001b[0;34m\u001b[0m\u001b[0m\n\u001b[1;32m      4\u001b[0m                        \u001b[0mconsider_none\u001b[0m \u001b[0;34m=\u001b[0m \u001b[0;32mTrue\u001b[0m\u001b[0;34m,\u001b[0m\u001b[0;34m\u001b[0m\u001b[0;34m\u001b[0m\u001b[0m\n\u001b[1;32m      5\u001b[0m                        \u001b[0mconsider_zeros\u001b[0m \u001b[0;34m=\u001b[0m \u001b[0;32mTrue\u001b[0m\u001b[0;34m,\u001b[0m\u001b[0;34m\u001b[0m\u001b[0;34m\u001b[0m\u001b[0m\n",
            "\u001b[0;31mNameError\u001b[0m: name 'pd' is not defined"
          ]
        }
      ]
    },
    {
      "cell_type": "markdown",
      "source": [
        "### plt_hist_of_columns(df)"
      ],
      "metadata": {
        "id": "OwGZHhgGsi9E"
      }
    },
    {
      "cell_type": "code",
      "source": [
        "def plt_hist_of_columns(df):\n",
        "  # converter colunas numéricas para \"float\"\n",
        "  float_df_columns = []\n",
        "  for i in df.columns:\n",
        "    try:\n",
        "      df[i] = df[i].astype(float)\n",
        "    except:\n",
        "      print(f'heatmap_pearson function: X column \"{i}\" is a {df[i].dtype}')\n",
        "    else:\n",
        "      float_df_columns += [i]\n",
        "  \n",
        "  aux = []\n",
        "  for i in float_df_columns:\n",
        "    aux += [i]\n",
        "    if (len(aux)==4):\n",
        "      try:\n",
        "        df[aux] = df[aux].astype(float)\n",
        "      except:\n",
        "        print()\n",
        "      df[aux].hist()\n",
        "      aux = []\n",
        "  df[aux].hist()"
      ],
      "metadata": {
        "id": "JexNdshlsk3B"
      },
      "execution_count": null,
      "outputs": []
    },
    {
      "cell_type": "markdown",
      "source": [
        "### plot_stacked_hist_or_bar_by(df,variable='',by='',mode='bar or hist')"
      ],
      "metadata": {
        "id": "UaT16sc9fvXG"
      }
    },
    {
      "cell_type": "code",
      "source": [
        "# Histogramas empilhados por classe \"by\"\n",
        "def plot_stacked_hist_or_bar_by(df, variable = '',\n",
        "                                by = '',\n",
        "                                mode = 'bar or hist', \n",
        "                                alpha = 0.3,\n",
        "                                bins_hist = 1, \n",
        "                                width_bar = 'default',\n",
        "                                bar_norm = False,\n",
        "                                colors_reference = ['b','g','r','c','m','y','k'],\n",
        "                                figsize = [6.4, 4.8],\n",
        "                                bar_labels=False,\n",
        "                                x_log_scale_hist = False):\n",
        "  '''\n",
        "  Exemplos semelhantes de grafico de barras: https://matplotlib.org/stable/gallery/lines_bars_and_markers/bar_stacked.html#sphx-glr-gallery-lines-bars-and-markers-bar-stacked-py\n",
        "  \n",
        "  Essa função se baseia na criação de dicionários para os valores da base (variável \"bottom\"\n",
        "  do matplotlib) e das frequencias (variável \"height\" do matplotlib). As chaves(keys) desses\n",
        "  dicionários são os valores únicos de \"df[variable]\" e os valores são referentes à frequencia\n",
        "  (obtidas a partir da função \"value_counts\").\n",
        "\n",
        "  Essa função retorna \"fig\" e \"ax\" do Matplotlib. Portanto, o gráfico criado pode ser editado\n",
        "  posteriormente, mesmo com certa limitação.\n",
        "\n",
        "  O modo 'hist' serve apenas para quando \"variable\" possui valores numéricos.\n",
        "  '''\n",
        "  import copy\n",
        "  import math\n",
        "  df = df.copy()\n",
        "  \n",
        "  fig, ax = plt.subplots(figsize=figsize)\n",
        "\n",
        "  df.dropna(subset=[variable], inplace=True)\n",
        "  x_range = [df[variable].min(), df[variable].max()]\n",
        "\n",
        "  unique_by = df[by].unique()\n",
        "  #Definir as CORES para cada valor único da variável \"by\".\n",
        "  #Caso houver mais valores que o tamanho de \"colors_reference\", as cores serão repetidas:\n",
        "  count, colors = (0, [])\n",
        "  for i in range(len(unique_by)):\n",
        "    if (count==len(colors_reference)):\n",
        "      count = 0\n",
        "    colors += [colors_reference[count]]\n",
        "    count += 1\n",
        "  \n",
        "  #dicionario com os valores da base:\n",
        "  unique_variable = df[variable].unique()\n",
        "  bottoms = dict(zip(unique_variable,len(unique_variable)*[0]))\n",
        "  #variavel referencia - dicionario com valores zerados:\n",
        "  values_0 = copy.copy(bottoms) \n",
        "\n",
        "  #Histograma - o dicionário para o \"x\", \"height\" e \"bottom\" é diferente quando se deseja construir um histograma:\n",
        "  #             faz-se necessário trabalhar com numeros/floats\n",
        "  if (mode=='hist'):\n",
        "    if (x_log_scale_hist==False):\n",
        "      histogram_width = (x_range[1]-x_range[0])/bins_hist\n",
        "      histogram_x = np.arange( x_range[0], x_range[1], histogram_width ).tolist()\n",
        "      histogram_bottoms = dict(zip(histogram_x,len(histogram_x)*[0])) ##valores com o valor da base\n",
        "      histogram_0 = copy.copy(histogram_bottoms) #variavel referencia - dicionario com valores zerados\n",
        "    elif(x_log_scale_hist==True):\n",
        "      x_range_log = [0,0]\n",
        "      x_range_log[0] = math.log10(x_range[0])\n",
        "      x_range_log[1] = math.log10(x_range[1])\n",
        "\n",
        "      histogram_width_log = (x_range_log[1]-x_range_log[0])/bins_hist\n",
        "      histogram_x_log = np.arange( x_range_log[0], x_range_log[1], histogram_width_log ).tolist()\n",
        "      \n",
        "      histogram_x = []\n",
        "      for log_number in histogram_x_log:\n",
        "        histogram_x += [10**log_number]\n",
        "      \n",
        "      histogram_width = []\n",
        "      for i in range(len(histogram_x)):\n",
        "        histogram_width += [ 10**(x_range_log[0]+histogram_width_log*(i+1)) - 10**(x_range_log[0]+histogram_width_log*i) ]\n",
        "      \n",
        "      histogram_bottoms = dict(zip(histogram_x,len(histogram_x)*[0]))\n",
        "      histogram_0 = copy.copy(histogram_bottoms)\n",
        "    else:\n",
        "      print('ERRO: x_log_scale_hist')\n",
        "      return\n",
        "\n",
        "\n",
        "\n",
        "  #Definir variável com o valor total de frequência para cada \"variable\"\n",
        "  if (bar_norm==True):\n",
        "    total_value_counts = df[variable].value_counts()\n",
        "\n",
        "  count = 0\n",
        "  for i in unique_by:\n",
        "    values = copy.copy(values_0) #armazenará os \"value_counts\" referentes a vada valor unico de uma variavel\n",
        "    \n",
        "    #Obter os value counts de cada \"variable\" para cada \"unique_by\"\n",
        "    df_filtrado = df.loc[df[by]==i, variable]\n",
        "    hist_aux_df = df_filtrado.value_counts()\n",
        "    for j in hist_aux_df.index:\n",
        "      if (bar_norm==True):\n",
        "        values[j] += hist_aux_df[j]/total_value_counts[j] #Normalizar \"values\" pelo valor total\n",
        "      else:\n",
        "        values[j] += hist_aux_df[j]\n",
        "\n",
        "\n",
        "    if (mode=='bar'):\n",
        "      ## Grafico ##\n",
        "      if (width_bar=='default') and not(isinstance(x_range[1], str)): width_bar = (x_range[1]-x_range[0])/len(unique_variable)\n",
        "      if isinstance(x_range[1], str): width_bar=0.8\n",
        "\n",
        "      graph = ax.bar(x=list(values.keys()), #https://matplotlib.org/stable/api/_as_gen/matplotlib.axes.Axes.bar.html#matplotlib.axes.Axes.bar\n",
        "            height=list(values.values()),\n",
        "            width=width_bar,\n",
        "            bottom=list(bottoms.values()),\n",
        "            align = 'center',\n",
        "            color = colors[count],\n",
        "            #edgecolor='black',\n",
        "            #hatch='//',\n",
        "            alpha=alpha,\n",
        "            label= i\n",
        "            )\n",
        "\n",
        "      ## Grafico ##\n",
        "      for j in bottoms.keys():\n",
        "        bottoms[j] += values[j]\n",
        "    \n",
        "    elif (mode=='hist'):\n",
        "      histogram_values = copy.copy(histogram_0)\n",
        "      for j in values.keys():\n",
        "        for k in histogram_x[::-1]:\n",
        "          if (j>=k):\n",
        "            histogram_values[k] += values[j]\n",
        "            break\n",
        "      ## Grafico ##\n",
        "      ax.bar(x=list(histogram_values.keys()), #https://matplotlib.org/stable/api/_as_gen/matplotlib.axes.Axes.bar.html#matplotlib.axes.Axes.bar\n",
        "            height=list(histogram_values.values()),\n",
        "            width=histogram_width,\n",
        "            bottom=list(histogram_bottoms.values()),\n",
        "            align = 'edge',\n",
        "            color = colors[count],\n",
        "            #edgecolor='black',\n",
        "            #hatch='//',\n",
        "            alpha=alpha,\n",
        "            label= i\n",
        "            )\n",
        "      if (x_log_scale_hist==True): plt.xscale('log')\n",
        "      ## Grafico ##\n",
        "      for j in histogram_bottoms.keys():\n",
        "        histogram_bottoms[j] += histogram_values[j]\n",
        "    \n",
        "    count += 1\n",
        "  \n",
        "  # Bar labels\n",
        "  if (mode=='bar') and (bar_labels==True):\n",
        "    value_counts = df[variable].value_counts()\n",
        "    for height,x in zip(value_counts, value_counts.index):\n",
        "      ax.annotate('{}'.format(height),\n",
        "                  xy=(x, height),\n",
        "                  xytext=(0, 5), # 5 points vertical offset\n",
        "                  textcoords=\"offset points\",\n",
        "                  ha='center', va='bottom',\n",
        "                  #fontsize=15,\n",
        "                  rotation=0)\n",
        "\n",
        "\n",
        "  ## Grafico ##\n",
        "  ax.set(#title=f'Frequência de {variable} por tipo de membrana',\n",
        "         xlabel=variable,\n",
        "         ylabel='Frequência')\n",
        "  ax.legend();\n",
        "  ax.margins(0.05)\n",
        "  ## Grafico ##\n",
        "\n",
        "  print('min =',df[variable].min())\n",
        "  print('max =',df[variable].max())\n",
        "  \n",
        "  return fig, ax"
      ],
      "metadata": {
        "id": "ci2Ykt_CiJvg"
      },
      "execution_count": null,
      "outputs": []
    },
    {
      "cell_type": "code",
      "source": [
        "# #### BACKUP ####\n",
        "\n",
        "# import copy\n",
        "\n",
        "# # Histogramas empilhados por classe \"by\"\n",
        "# def plot_stacked_hist_or_bar_by(df, variable = '',\n",
        "#                                 by = '',\n",
        "#                                 mode = 'bar or hist', \n",
        "#                                 alpha = 0.3,\n",
        "#                                 bins_hist = 1, \n",
        "#                                 width_bar = 'default',\n",
        "#                                 bar_norm = False,\n",
        "#                                 colors_reference = ['b','g','r','c','m','y','k'],\n",
        "#                                 figsize = [6.4, 4.8]):\n",
        "#   '''\n",
        "#   Exemplos semelhantes de grafico de barras: https://matplotlib.org/stable/gallery/lines_bars_and_markers/bar_stacked.html#sphx-glr-gallery-lines-bars-and-markers-bar-stacked-py\n",
        "  \n",
        "#   Essa função se baseia na criação de dicionários para os valores da base (variável \"bottom\"\n",
        "#   do matplotlib) e das frequencias (variável \"height\" do matplotlib). As chaves(keys) desses\n",
        "#   dicionários são os valores únicos de \"df[variable]\" e os valores são referentes à frequencia\n",
        "#   (obtidas a partir da função \"value_counts\").\n",
        "\n",
        "#   Essa função retorna \"fig\" e \"ax\" do Matplotlib. Portanto, o gráfico criado pode ser editado\n",
        "#   posteriormente, mesmo com certa limitação.\n",
        "\n",
        "#   O modo 'hist' serve apenas para quando \"variable\" possui valores numéricos.\n",
        "#   '''\n",
        "#   fig, ax = plt.subplots(figsize=figsize)\n",
        "\n",
        "#   df.dropna(subset=[variable], inplace=True)\n",
        "#   x_range = [df[variable].min(), df[variable].max()]\n",
        "\n",
        "#   unique_by = df[by].unique()\n",
        "#   #Definir as CORES para cada valor único da variável \"by\".\n",
        "#   #Caso houver mais valores que o tamanho de \"colors_reference\", as cores serão repetidas:\n",
        "#   count, colors = (0, [])\n",
        "#   for i in range(len(unique_by)):\n",
        "#     if (count==len(colors_reference)):\n",
        "#       count = 0\n",
        "#     colors += [colors_reference[count]]\n",
        "#     count += 1\n",
        "  \n",
        "#   #dicionario com os valores da base:\n",
        "#   unique_variable = df[variable].unique()\n",
        "#   bottoms = dict(zip(unique_variable,len(unique_variable)*[0]))\n",
        "#   #variavel referencia - dicionario com valores zerados:\n",
        "#   values_0 = copy.copy(bottoms) \n",
        "\n",
        "#   #Histograma - o dicionário para o \"x\", \"height\" e \"bottom\" é diferente quando se deseja construir um histograma:\n",
        "#   #             faz-se necessário trabalhar com numeros/floats\n",
        "#   if (mode=='hist'):\n",
        "#     histogram_width = (x_range[1]-x_range[0])/bins_hist\n",
        "#     histogram_x = np.arange( x_range[0], x_range[1], histogram_width ).tolist()\n",
        "#     histogram_bottoms = dict(zip(histogram_x,len(histogram_x)*[0])) ##valores com o valor da base\n",
        "#     histogram_0 = copy.copy(histogram_bottoms) #variavel referencia - dicionario com valores zerados\n",
        "\n",
        "#   #Definir variável com o valor total de frequência para cada \"variable\"\n",
        "#   if (bar_norm==True):\n",
        "#     total_value_counts = df[variable].value_counts()\n",
        "\n",
        "#   count = 0\n",
        "#   for i in unique_by:\n",
        "#     values = copy.copy(values_0) #armazenará os \"value_counts\" referentes a vada valor unico de uma variavel\n",
        "    \n",
        "#     #Obter os value counts de cada \"variable\" para cada \"unique_by\"\n",
        "#     df_filtrado = df.loc[df[by]==i, variable]\n",
        "#     hist_aux_df = df_filtrado.value_counts()\n",
        "#     for j in hist_aux_df.index:\n",
        "#       if (bar_norm==True):\n",
        "#         values[j] += hist_aux_df[j]/total_value_counts[j] #Normalizar \"values\" pelo valor total\n",
        "#       else:\n",
        "#         values[j] += hist_aux_df[j]\n",
        "\n",
        "\n",
        "#     if (mode=='bar'):\n",
        "#       ## Grafico ##\n",
        "#       if (width_bar=='default') and not(isinstance(x_range[1], str)): width_bar = (x_range[1]-x_range[0])/len(unique_variable)\n",
        "#       if isinstance(x_range[1], str): width_bar=0.8\n",
        "\n",
        "#       ax.bar(x=list(values.keys()), #https://matplotlib.org/stable/api/_as_gen/matplotlib.axes.Axes.bar.html#matplotlib.axes.Axes.bar\n",
        "#             height=list(values.values()),\n",
        "#             width=width_bar,\n",
        "#             bottom=list(bottoms.values()),\n",
        "#             align = 'center',\n",
        "#             color = colors[count],\n",
        "#             #edgecolor='black',\n",
        "#             #hatch='//',\n",
        "#             alpha=alpha,\n",
        "#             label= i\n",
        "#             )\n",
        "#       ## Grafico ##\n",
        "#       for j in bottoms.keys():\n",
        "#         bottoms[j] += values[j]\n",
        "    \n",
        "#     elif (mode=='hist'):\n",
        "#       histogram_values = copy.copy(histogram_0)\n",
        "#       for j in values.keys():\n",
        "#         for k in histogram_x[::-1]:\n",
        "#           if (j>=k):\n",
        "#             histogram_values[k] += values[j]\n",
        "#             break\n",
        "#       ## Grafico ##\n",
        "#       ax.bar(x=list(histogram_values.keys()), #https://matplotlib.org/stable/api/_as_gen/matplotlib.axes.Axes.bar.html#matplotlib.axes.Axes.bar\n",
        "#             height=list(histogram_values.values()),\n",
        "#             width=histogram_width,\n",
        "#             bottom=list(histogram_bottoms.values()),\n",
        "#             align = 'edge',\n",
        "#             color = colors[count],\n",
        "#             #edgecolor='black',\n",
        "#             #hatch='//',\n",
        "#             alpha=alpha,\n",
        "#             label= i\n",
        "#             )\n",
        "#       ## Grafico ##\n",
        "#       for j in histogram_bottoms.keys():\n",
        "#         histogram_bottoms[j] += histogram_values[j]\n",
        "    \n",
        "#     count += 1\n",
        "  \n",
        "\n",
        "#   ## Grafico ##\n",
        "#   ax.set(#title=f'Frequência de {variable} por tipo de membrana',\n",
        "#          xlabel=variable,\n",
        "#          ylabel='Frequência')\n",
        "#   plt.legend();\n",
        "#   ax.margins(0.05)\n",
        "#   ## Grafico ##\n",
        "\n",
        "#   print('min =',df[variable].min())\n",
        "#   print('max =',df[variable].max())\n",
        "  \n",
        "#   return fig, ax"
      ],
      "metadata": {
        "id": "U1uSSHQRfsQx"
      },
      "execution_count": null,
      "outputs": []
    },
    {
      "cell_type": "markdown",
      "source": [
        "###compare_hists_by(df1, df2, variable = '', by = '')"
      ],
      "metadata": {
        "id": "ZIhaBf_IU7LC"
      }
    },
    {
      "cell_type": "code",
      "source": [
        "import copy\n",
        "def compare_hists_by(df1, df2,\n",
        "                     variable = '',\n",
        "                     by = '',\n",
        "                     df1_name = 'default',\n",
        "                     df2_name = 'default',\n",
        "                     alpha = 0.7,\n",
        "                     bins_hist = 1,\n",
        "                     colors_reference = ['b','g','r','c','m','y','k'],\n",
        "                     figsize = [12.8, 7.2]):\n",
        "  '''\n",
        "  \"variable\" precisa ter valores numéricos.\n",
        "\n",
        "  Essa função retorna \"fig\" e \"ax\" do Matplotlib. Portanto, o gráfico criado pode ser editado\n",
        "  posteriormente, mesmo com certa limitação.\n",
        "  \n",
        "  A lógica dessa função foi copiada da função \"plot_stacked_hist_or_bar_by\".\n",
        "  Para melhor compreender esse cógido, ler antes o código da função \"plot_stacked_hist_or_bar_by\"\n",
        "  '''\n",
        "  fig, ax = plt.subplots( 2, 2, figsize=figsize )\n",
        "  df1.dropna(subset=[variable], inplace=True)\n",
        "  df2.dropna(subset=[variable], inplace=True)\n",
        "  \n",
        "  x_range_min = min(df1[variable].min(), df2[variable].min())\n",
        "  x_range_max = max(df1[variable].max(), df2[variable].max())\n",
        "\n",
        "  #Achar os valores únicos da variável \"by\" presentes nos dois dataframes (df1 e df2)\n",
        "  unique_by = (df1[by].unique().tolist() + df2[by].unique().tolist())\n",
        "  unique_by = list(dict.fromkeys(unique_by))\n",
        "  unique_by.sort()\n",
        "  #Definir as cores para cada valor único da variável \"by\".\n",
        "  #Caso houver mais valores que o tamanho de \"colors_reference\", as cores serão repetidas:\n",
        "  count, colors = (0, [])\n",
        "  for i in range(len(unique_by)):\n",
        "    if (count==len(colors_reference)):\n",
        "      count = 0\n",
        "    colors += [colors_reference[count]]\n",
        "    count += 1\n",
        "  \n",
        "  #Histograma - o dicionário para o \"x\", \"height\" e \"bottom\" para plotar um histograma\n",
        "  histogram_width = (x_range_max-x_range_min)/bins_hist\n",
        "  histogram_x = np.arange( x_range_min, x_range_max, histogram_width ).tolist()\n",
        "  histogram_bottoms = dict(zip(histogram_x,len(histogram_x)*[0])) ##valores com o valor da base\n",
        "  histogram_0 = copy.copy(histogram_bottoms) #variavel referencia - dicionario com valores zerados\n",
        "\n",
        "  ## Plots individuais ##\n",
        "  histogram_df = {}\n",
        "  for (df, position) in [(df1, 0), (df2, 1)]:\n",
        "    unique_variable = df[variable].unique()\n",
        "    #variavel referencia - dicionario com valores zerados:\n",
        "    values_0 = dict(zip(unique_variable,len(unique_variable)*[0]))\n",
        "\n",
        "    count = 0\n",
        "    for i in unique_by:\n",
        "      values = copy.copy(values_0) #armazenará os \"value_counts\" referentes a vada valor unico de uma variavel\n",
        "      aux_df = df.loc[df[by]==i, variable]\n",
        "      hist_aux_df = aux_df.value_counts()\n",
        "      for j in hist_aux_df.index:\n",
        "        values[j] += hist_aux_df[j]\n",
        "      \n",
        "      ## Histograma ##\n",
        "      histogram_values = copy.copy(histogram_0)\n",
        "      for j in values.keys():\n",
        "        for k in histogram_x[::-1]:\n",
        "          if (j>=k):\n",
        "            histogram_values[k] += values[j]\n",
        "            break\n",
        "\n",
        "      ## Grafico ##\n",
        "      ax[position,0].bar(x=list(histogram_values.keys()), #https://matplotlib.org/stable/api/_as_gen/matplotlib.axes.Axes.bar.html#matplotlib.axes.Axes.bar\n",
        "                        height=list(histogram_values.values()),\n",
        "                        width=histogram_width,\n",
        "                        bottom=list(histogram_bottoms.values()),\n",
        "                        align = 'edge',\n",
        "                        color = colors[count],\n",
        "                        #edgecolor='black',\n",
        "                        #hatch='//',\n",
        "                        alpha=alpha,\n",
        "                        label= i\n",
        "                        )\n",
        "      if (position==0):\n",
        "        if (df1_name=='default'):\n",
        "          title='df1'\n",
        "        else:\n",
        "          title=df1_name\n",
        "      if (position==1):\n",
        "        if (df2_name=='default'):\n",
        "          title='df2'\n",
        "        else:\n",
        "          title=df2_name\n",
        "      ax[position,0].set_title(title)\n",
        "      ax[position,0].set_ylabel('Frequência')\n",
        "      if (position==0): ax[position,0].set_xticks([]) #ocultar o eixo x\n",
        "      if (position==1): ax[position,0].set_xlabel(variable)\n",
        "      ax[position,0].legend();\n",
        "      #ax[position,0].margins(0.05)\n",
        "      ## Grafico ##\n",
        "\n",
        "      for j in histogram_bottoms.keys():\n",
        "        histogram_bottoms[j] += histogram_values[j]\n",
        "      \n",
        "      count += 1\n",
        "    \n",
        "    histogram_df[position] = histogram_bottoms.copy() #Armazenar valor para depois plotar junto o df1 e df2\n",
        "    histogram_bottoms = histogram_0.copy()\n",
        "\n",
        "  ## Plots juntos ##\n",
        "  ## Grafico ##\n",
        "  ax = plt.subplot(122)\n",
        "  for i in (0, 1):\n",
        "    if (i==0):\n",
        "      color = 'darkred'\n",
        "      if (df1_name=='default'):\n",
        "        label='df1'\n",
        "      else:\n",
        "        label=df1_name\n",
        "    if (i==1):\n",
        "      color = 'cornflowerblue'\n",
        "      if (df2_name=='default'):\n",
        "        label='df2'\n",
        "      else:\n",
        "        label=df2_name\n",
        "    ax.bar(x=list(histogram_df[i].keys()), #https://matplotlib.org/stable/api/_as_gen/matplotlib.axes.Axes.bar.html#matplotlib.axes.Axes.bar\n",
        "                  height=list(histogram_df[i].values()),\n",
        "                  width=histogram_width,\n",
        "                  align = 'edge',\n",
        "                  color = color,\n",
        "                  #edgecolor='black',\n",
        "                  #hatch='//',\n",
        "                  alpha=alpha,\n",
        "                  label= label\n",
        "                  )\n",
        "    ax.legend()\n",
        "    ax.set(xlabel=variable, ylabel='Frequência')\n",
        "   ## Grafico ##\n",
        "\n",
        "  return fig, ax"
      ],
      "metadata": {
        "id": "fHv7eLOsU31R"
      },
      "execution_count": null,
      "outputs": []
    },
    {
      "cell_type": "markdown",
      "source": [
        "### heatmap_corr(df, x='all', y='all', method='pearson', min_periods=1, color='di')"
      ],
      "metadata": {
        "id": "hu87rosewxW4"
      }
    },
    {
      "cell_type": "code",
      "source": [
        "def heatmap_corr(df,\n",
        "                 x='all', \n",
        "                 y='all',\n",
        "                 method='pearson', \n",
        "                 min_periods=1,\n",
        "                 color='di'):\n",
        "  import pandas as pd\n",
        "  \n",
        "  corr_pear = df.corr( min_periods=min_periods, method=method )\n",
        "  \n",
        "  if (x=='all'):\n",
        "    x = corr_pear.columns.tolist()\n",
        "  #print(x)\n",
        "  if (y=='all'):\n",
        "    y = corr_pear.columns.tolist()\n",
        "  #print(y)\n",
        "  heatmap_pearson = pd.DataFrame( columns=x, index=y )\n",
        "  heatmap_pearson = corr_pear.loc[y,x]\n",
        "  \n",
        "    #GRAFICO#\n",
        "  f, ax = plt.subplots(figsize=( 1*len(x)+3, 1*len(y) ))\n",
        "  if color=='mono':\n",
        "    colors = ('#00076e', '#1b00ff', '#d0cbff', '#FFFFFF', '#d0cbff', '#1b00ff', '#00076e')\n",
        "  elif (color=='di'):\n",
        "    colors = ('#7e0000', '#ff0000', '#fecfcf', '#FFFFFF', '#d0cbff', '#1b00ff', '#00076e')\n",
        "  cmap = sns.blend_palette(colors, input='rgb', as_cmap=True)\n",
        "  sns.heatmap(heatmap_pearson, annot=True, cmap=cmap, ax=ax, center=0) \n",
        "\n",
        "  return heatmap_pearson"
      ],
      "metadata": {
        "id": "cXG76USmwu2T"
      },
      "execution_count": null,
      "outputs": []
    },
    {
      "cell_type": "markdown",
      "source": [
        "### heatmap_pearson(df='pandas_DataFrame', x='all', y='all', allow_duplicates=True, color='di', graphic='coeff')"
      ],
      "metadata": {
        "id": "xab3pxC6TtMv"
      }
    },
    {
      "cell_type": "code",
      "source": [
        "def heatmap_pearson(df='pandas_DataFrame',\n",
        "                    x='all',\n",
        "                    y='all',\n",
        "                    allow_duplicates=True,\n",
        "                    color='di', \n",
        "                    graphic='coeff'):\n",
        "  from scipy.stats import pearsonr\n",
        "  '''\n",
        "  Returns a heatmap plot with pearson's coefficients or their p-values.\n",
        "\n",
        "  df      = Dataframe\n",
        "  x and y = list of x and y heatmap columns/axis\n",
        "  color   = \"di\" or \"mono\"\n",
        "  graphic = \"coeff\" or \"pvalue\"\n",
        "  '''\n",
        "  if (x=='all'):\n",
        "    x = df.columns\n",
        "\n",
        "  # converter colunas numéricas para \"float\"\n",
        "  float_df_columnsx = []\n",
        "  for i in x:\n",
        "    try:\n",
        "      df[i] = df[i].astype(float)\n",
        "    except:\n",
        "      print(f'heatmap_pearson function: X column \"{i}\" is a {df[i].dtype}')\n",
        "    else:\n",
        "      float_df_columnsx += [i]\n",
        "  x = float_df_columnsx\n",
        "\n",
        "\n",
        "  if (y=='all'):\n",
        "    y = df.columns\n",
        "\n",
        "  # converter colunas numéricas para \"float\"\n",
        "  float_df_columnsy = []\n",
        "  for i in y:\n",
        "    try:\n",
        "      df[i] = df[i].astype(float)\n",
        "    except:\n",
        "      print(f'heatmap_pearson function: Y column \"{i}\" is a {df[i].dtype}')\n",
        "    else:\n",
        "      float_df_columnsy += [i]\n",
        "  y = float_df_columnsy\n",
        "  \n",
        "\n",
        "  pear_heatmap = pd.DataFrame( columns=x, index=y, dtype=float)\n",
        "  pvalue_heatmap = pd.DataFrame( columns=x, index=y, dtype=float )\n",
        "  for i in x: #columns\n",
        "    #print(i)\n",
        "    for j in y: #index\n",
        "      df_aux = df[[i,j]].dropna()\n",
        "      \n",
        "      #Retirar duplicadas nas coordenadas de \"df_aux\"\n",
        "      if (allow_duplicates==False):\n",
        "        old_df = df_aux\n",
        "        new_df = pd.DataFrame( columns=[i,j] )\n",
        "        lines_new_df = []\n",
        "        for index in old_df.index:\n",
        "          line_old_df = f'{df.loc[index,i]} {df.loc[index,j]}'\n",
        "          if not(line_old_df in lines_new_df):\n",
        "            lines_new_df += [line_old_df]\n",
        "            new_df.loc[index, [i,j] ] = old_df.loc[index, [i,j]]\n",
        "        df_aux = new_df\n",
        "\n",
        "      if (df_aux.shape[0]==0):\n",
        "        pear_heatmap.loc[j,i], pvalue_heatmap.loc[j,i] = (np.nan, np.nan)\n",
        "        continue\n",
        "      columnx = df_aux.iloc[:,0]\n",
        "      columny = df_aux.iloc[:,1]\n",
        "      #print(columnx.shape, columny.shape)\n",
        "      pear_heatmap.loc[j,i], pvalue_heatmap.loc[j,i] = pearsonr( columnx, columny )\n",
        "\n",
        "  ## GRAFICO ##\n",
        "  if (graphic=='coeff'):\n",
        "    graphic = pear_heatmap\n",
        "  elif (graphic=='pvalue'):\n",
        "    graphic = pvalue_heatmap\n",
        "\n",
        "  f, ax = plt.subplots(figsize=( 1*len(x)+3, 1*len(y) ))\n",
        "  if color=='mono':\n",
        "    colors = ('#00076e', '#1b00ff', '#d0cbff', '#FFFFFF', '#d0cbff', '#1b00ff', '#00076e')\n",
        "  elif (color=='di'):\n",
        "    colors = ('#7e0000', '#ff0000', '#fecfcf', '#FFFFFF', '#d0cbff', '#1b00ff', '#00076e')\n",
        "  cmap = sns.blend_palette(colors, input='rgb', as_cmap=True)\n",
        "  sns.heatmap(graphic, annot=True, cmap=cmap, ax=ax, center=0)\n",
        "\n",
        "  return (pear_heatmap, pvalue_heatmap)"
      ],
      "metadata": {
        "id": "5OETMwBQThqo"
      },
      "execution_count": null,
      "outputs": []
    },
    {
      "cell_type": "markdown",
      "metadata": {
        "id": "mhlmbCW0tt1h"
      },
      "source": [
        "###draw_tree(t, dados, size=10, ratio=1, precision=0) - Modelo RF"
      ]
    },
    {
      "cell_type": "code",
      "source": [
        "def draw_tree(t, dados, size=10, ratio=1, precision=0):\n",
        "   \n",
        "    import re\n",
        "    import graphviz\n",
        "    import sklearn.tree\n",
        "    import IPython.display\n",
        "    \n",
        "    s=sklearn.tree.export_graphviz(t, out_file=None, feature_names=dados.columns, filled=True,\n",
        "                                   special_characters=True, rotate=True, precision=precision)\n",
        "    IPython.display.display(graphviz.Source(re.sub('Tree {',\n",
        "       f'Tree {{ size={size}; ratio={ratio}', s)))"
      ],
      "metadata": {
        "id": "HwlEYRr-kXia"
      },
      "execution_count": null,
      "outputs": []
    },
    {
      "cell_type": "markdown",
      "source": [
        "###plotar_importancias(modelo, tags, n=10) - modelo RF"
      ],
      "metadata": {
        "id": "gqluL2em-ubQ"
      }
    },
    {
      "cell_type": "code",
      "source": [
        "def plotar_importancias(modelo, tags, n=10):\n",
        "    \n",
        "    fig, ax = plt.subplots(1,2, figsize = (20,4))\n",
        "\n",
        "    coefs = []\n",
        "    abs_coefs = []\n",
        "\n",
        "    if hasattr(modelo,'coef_'):\n",
        "        imp = modelo.coef_\n",
        "    elif hasattr(modelo,'feature_importances_'):\n",
        "        imp = modelo.feature_importances_\n",
        "    else:\n",
        "        print('sorry, nao vai rolar!')\n",
        "        return\n",
        "\n",
        "    coefs = (pd.Series(imp, index = tags))\n",
        "    coefs.plot(use_index=False, ax=ax[0]);\n",
        "    abs_coefs = (abs(coefs)/(abs(coefs).sum()))\n",
        "    abs_coefs.sort_values(ascending=False).plot(use_index=False, ax=ax[1],marker='.')\n",
        "\n",
        "    ax[0].set_title('Importâncias relativas das variáveis')\n",
        "    ax[1].set_title('Importâncias relativas das variáveis - ordem decrescente')\n",
        "\n",
        "    abs_coefs_df = pd.DataFrame(np.array(abs_coefs).T,\n",
        "                                columns = ['Importancias'],\n",
        "                                index = tags)\n",
        "\n",
        "    df = abs_coefs_df['Importancias'].sort_values(ascending=False)\n",
        "    \n",
        "    print(df.iloc[0:n])\n",
        "    plt.figure()\n",
        "    df.iloc[0:n].plot(kind='barh', figsize=(15,0.25*n), legend=False)\n",
        "    \n",
        "    return df"
      ],
      "metadata": {
        "id": "D-DlUSMwp5LG"
      },
      "execution_count": null,
      "outputs": []
    },
    {
      "cell_type": "markdown",
      "source": [
        "###plot_predictions(y_real = 'list', y_pred = 'list', error_axis = 'absolute or relative')"
      ],
      "metadata": {
        "id": "LDtsAjxsvr12"
      }
    },
    {
      "cell_type": "code",
      "source": [
        "def plot_predictions(y_real = 'list',\n",
        "                     y_pred = 'list',\n",
        "                     figsize = [15., 6.],\n",
        "                     y_scale = 'default', #log ou linear\n",
        "                     put_major_label_tick_every = 'default',\n",
        "                     put_minor_label_tick_every = 'default',\n",
        "                     show_error_axis = True,\n",
        "                     error_axis = 'absolute or relative',\n",
        "                     font_size = 11.,\n",
        "                     report_big_relative_errors = True,\n",
        "                     big_errors_limit = 100\n",
        "                     ):\n",
        "  \n",
        "  from matplotlib.ticker import (MultipleLocator, AutoMinorLocator)\n",
        "  import matplotlib\n",
        "\n",
        "  if len(y_real)!=len(y_pred):\n",
        "    print('ERRO: tamanho de y_real (',len(y_real),') é diferente do tamanho de y_pred (',len(y_pred),')')\n",
        "    return\n",
        "  \n",
        "  matplotlib.rcParams['font.size'] = font_size\n",
        "  \n",
        "  if show_error_axis==True:\n",
        "    fig = plt.figure(figsize=figsize)\n",
        "    ax = fig.add_subplot(3, 1, (1, 2))\n",
        "  else:\n",
        "    fig, ax = plt.subplots(figsize=figsize)\n",
        "\n",
        "  len_x = len(y_real)\n",
        "  x = np.arange(1, len_x+1, 1)\n",
        "  \n",
        "  if put_major_label_tick_every=='default': put_major_label_tick_every = round( len_x/10, -1 )\n",
        "  if put_minor_label_tick_every=='default': put_minor_label_tick_every = round( put_major_label_tick_every/2, 0 )\n",
        "\n",
        "  ax.plot(x, y_pred, \n",
        "          linewidth=2.8, \n",
        "          label='Predito')\n",
        "  \n",
        "  ax.plot(x, y_real, \n",
        "          linewidth=1.0, \n",
        "          ls='--',\n",
        "          marker='o',\n",
        "          label='real', \n",
        "          )\n",
        "  \n",
        "\n",
        "  ax.set(xlim=[0, len_x+1])\n",
        "  ax.grid(True, which='both', axis='x', linestyle='-', color='lightgray')\n",
        "  ax.xaxis.set_major_locator(MultipleLocator(put_major_label_tick_every))\n",
        "  ax.xaxis.set_minor_locator(MultipleLocator(put_minor_label_tick_every))\n",
        "\n",
        "  ax.set_ylabel('Permeabilidade (barrer)')\n",
        "  \n",
        "  plt.legend(loc='best')\n",
        "\n",
        "  if y_scale=='default': y_scale='log'\n",
        "  plt.yscale(y_scale)\n",
        "  \n",
        "  if show_error_axis==True:\n",
        "    \n",
        "    if (error_axis == 'absolute'):\n",
        "      error_name = 'Erro absoluto'\n",
        "      error_values = []\n",
        "      print('Erro=pred-real')\n",
        "      for real,pred in zip(y_real,y_pred):\n",
        "        error_values += [pred-real]\n",
        "    elif (error_axis == 'relative'):\n",
        "      error_name = 'Erro relativo (%)'\n",
        "      error_values = []\n",
        "      print('Erro=(pred-real)/real')\n",
        "      for real,pred in zip(y_real,y_pred):\n",
        "        error_values += [(pred-real)/real*100]\n",
        "    else:\n",
        "      print('ERRO: Escolha uma funcao de erro disponivel (rmse, r2 ou mape)')\n",
        "    \n",
        "    if (report_big_relative_errors==True):\n",
        "      print('Da amostra 1 a',len_x)\n",
        "      for i in x:\n",
        "        if (error_values[i-1]>big_errors_limit) or (error_values[i-1]<-big_errors_limit):\n",
        "          print('Amostra',i,':',error_values[i-1])\n",
        "\n",
        "\n",
        "    plt.tick_params('x', labelbottom=False)\n",
        "\n",
        "    ax2 = fig.add_subplot(3, 1, 3, sharex=ax)\n",
        "    ax2.set_xlabel('Amostra')\n",
        "    ax2.set_ylabel(error_name)\n",
        "    #print(error_values)\n",
        "    #aux_delta = (max(error_values.min())-min(error_values))*0.05\n",
        "    #ax[0].set_ylim([min(error_values)-aux_delta, max(error_values)-aux_delta])\n",
        "\n",
        "    ax2.bar(x,error_values, color='tomato')\n",
        "    ax2.plot(x,error_values, color='firebrick', label='Erro')\n",
        "    \n",
        "    if (error_axis == 'absolute'):\n",
        "      ax2.plot(x, [rmse(y_real,y_pred)]*len_x, \n",
        "                linewidth=1.0, \n",
        "                ls='--',\n",
        "                label='RMSE',\n",
        "                color='firebrick' \n",
        "                )\n",
        "    elif (error_axis == 'relative'):\n",
        "      ax2.plot(x, [mape(y_real,y_pred)]*len_x, \n",
        "                linewidth=1.0, \n",
        "                ls='--',\n",
        "                label='MAPE',\n",
        "                color='firebrick' \n",
        "                )\n",
        "    \n",
        "    plt.legend(loc='best')\n",
        "\n",
        "    return fig, (ax, ax2)\n",
        "  else:\n",
        "    ax.set_xlabel('Amostra')\n",
        "\n",
        "    return fig, ax"
      ],
      "metadata": {
        "id": "jo1PC6x6vtC_"
      },
      "execution_count": null,
      "outputs": []
    },
    {
      "cell_type": "markdown",
      "source": [
        "#Como exportar e importar com pickle"
      ],
      "metadata": {
        "id": "qucVwpdpPt_f"
      }
    },
    {
      "cell_type": "markdown",
      "source": [
        "```\n",
        "import pickle\n",
        "```\n",
        "\n",
        "Exportar:\n",
        "\n",
        "```\n",
        "with open( 'example_file.pkl', 'wb' ) as f:\n",
        "  pickle.dump( \"objetos/variáveis\", f )\n",
        "```\n",
        "\n",
        "Importar\n",
        "\n",
        "```\n",
        "with open( 'example_file.pkl', 'rb' ) as f:\n",
        "  \"objetos/variáveis\" = pickle.load( f )\n",
        "```\n",
        "\n"
      ],
      "metadata": {
        "id": "If_S_7Z1QA7_"
      }
    },
    {
      "cell_type": "markdown",
      "source": [
        "#Paletas de Cores"
      ],
      "metadata": {
        "id": "yiyhZTMqtZmS"
      }
    },
    {
      "cell_type": "code",
      "source": [
        "sns.color_palette() #https://seaborn.pydata.org/tutorial/color_palettes.html"
      ],
      "metadata": {
        "colab": {
          "base_uri": "https://localhost:8080/",
          "height": 76
        },
        "id": "l1LWOV6WtcVK",
        "outputId": "af385f8d-87de-4535-ec5c-c7020ab9d140"
      },
      "execution_count": null,
      "outputs": [
        {
          "output_type": "execute_result",
          "data": {
            "text/plain": [
              "[(0.12156862745098039, 0.4666666666666667, 0.7058823529411765),\n",
              " (1.0, 0.4980392156862745, 0.054901960784313725),\n",
              " (0.17254901960784313, 0.6274509803921569, 0.17254901960784313),\n",
              " (0.8392156862745098, 0.15294117647058825, 0.1568627450980392),\n",
              " (0.5803921568627451, 0.403921568627451, 0.7411764705882353),\n",
              " (0.5490196078431373, 0.33725490196078434, 0.29411764705882354),\n",
              " (0.8901960784313725, 0.4666666666666667, 0.7607843137254902),\n",
              " (0.4980392156862745, 0.4980392156862745, 0.4980392156862745),\n",
              " (0.7372549019607844, 0.7411764705882353, 0.13333333333333333),\n",
              " (0.09019607843137255, 0.7450980392156863, 0.8117647058823529)]"
            ],
            "text/html": [
              "<svg  width=\"550\" height=\"55\"><rect x=\"0\" y=\"0\" width=\"55\" height=\"55\" style=\"fill:#1f77b4;stroke-width:2;stroke:rgb(255,255,255)\"/><rect x=\"55\" y=\"0\" width=\"55\" height=\"55\" style=\"fill:#ff7f0e;stroke-width:2;stroke:rgb(255,255,255)\"/><rect x=\"110\" y=\"0\" width=\"55\" height=\"55\" style=\"fill:#2ca02c;stroke-width:2;stroke:rgb(255,255,255)\"/><rect x=\"165\" y=\"0\" width=\"55\" height=\"55\" style=\"fill:#d62728;stroke-width:2;stroke:rgb(255,255,255)\"/><rect x=\"220\" y=\"0\" width=\"55\" height=\"55\" style=\"fill:#9467bd;stroke-width:2;stroke:rgb(255,255,255)\"/><rect x=\"275\" y=\"0\" width=\"55\" height=\"55\" style=\"fill:#8c564b;stroke-width:2;stroke:rgb(255,255,255)\"/><rect x=\"330\" y=\"0\" width=\"55\" height=\"55\" style=\"fill:#e377c2;stroke-width:2;stroke:rgb(255,255,255)\"/><rect x=\"385\" y=\"0\" width=\"55\" height=\"55\" style=\"fill:#7f7f7f;stroke-width:2;stroke:rgb(255,255,255)\"/><rect x=\"440\" y=\"0\" width=\"55\" height=\"55\" style=\"fill:#bcbd22;stroke-width:2;stroke:rgb(255,255,255)\"/><rect x=\"495\" y=\"0\" width=\"55\" height=\"55\" style=\"fill:#17becf;stroke-width:2;stroke:rgb(255,255,255)\"/></svg>"
            ]
          },
          "metadata": {},
          "execution_count": 4
        }
      ]
    },
    {
      "cell_type": "code",
      "source": [
        "sns.color_palette(\"tab10\") #https://seaborn.pydata.org/tutorial/color_palettes.html"
      ],
      "metadata": {
        "colab": {
          "base_uri": "https://localhost:8080/",
          "height": 76
        },
        "id": "4ub0btFWtSK0",
        "outputId": "b28395c2-d62c-4d15-ae18-06c95310e819"
      },
      "execution_count": null,
      "outputs": [
        {
          "output_type": "execute_result",
          "data": {
            "text/plain": [
              "[(0.12156862745098039, 0.4666666666666667, 0.7058823529411765),\n",
              " (1.0, 0.4980392156862745, 0.054901960784313725),\n",
              " (0.17254901960784313, 0.6274509803921569, 0.17254901960784313),\n",
              " (0.8392156862745098, 0.15294117647058825, 0.1568627450980392),\n",
              " (0.5803921568627451, 0.403921568627451, 0.7411764705882353),\n",
              " (0.5490196078431373, 0.33725490196078434, 0.29411764705882354),\n",
              " (0.8901960784313725, 0.4666666666666667, 0.7607843137254902),\n",
              " (0.4980392156862745, 0.4980392156862745, 0.4980392156862745),\n",
              " (0.7372549019607844, 0.7411764705882353, 0.13333333333333333),\n",
              " (0.09019607843137255, 0.7450980392156863, 0.8117647058823529)]"
            ],
            "text/html": [
              "<svg  width=\"550\" height=\"55\"><rect x=\"0\" y=\"0\" width=\"55\" height=\"55\" style=\"fill:#1f77b4;stroke-width:2;stroke:rgb(255,255,255)\"/><rect x=\"55\" y=\"0\" width=\"55\" height=\"55\" style=\"fill:#ff7f0e;stroke-width:2;stroke:rgb(255,255,255)\"/><rect x=\"110\" y=\"0\" width=\"55\" height=\"55\" style=\"fill:#2ca02c;stroke-width:2;stroke:rgb(255,255,255)\"/><rect x=\"165\" y=\"0\" width=\"55\" height=\"55\" style=\"fill:#d62728;stroke-width:2;stroke:rgb(255,255,255)\"/><rect x=\"220\" y=\"0\" width=\"55\" height=\"55\" style=\"fill:#9467bd;stroke-width:2;stroke:rgb(255,255,255)\"/><rect x=\"275\" y=\"0\" width=\"55\" height=\"55\" style=\"fill:#8c564b;stroke-width:2;stroke:rgb(255,255,255)\"/><rect x=\"330\" y=\"0\" width=\"55\" height=\"55\" style=\"fill:#e377c2;stroke-width:2;stroke:rgb(255,255,255)\"/><rect x=\"385\" y=\"0\" width=\"55\" height=\"55\" style=\"fill:#7f7f7f;stroke-width:2;stroke:rgb(255,255,255)\"/><rect x=\"440\" y=\"0\" width=\"55\" height=\"55\" style=\"fill:#bcbd22;stroke-width:2;stroke:rgb(255,255,255)\"/><rect x=\"495\" y=\"0\" width=\"55\" height=\"55\" style=\"fill:#17becf;stroke-width:2;stroke:rgb(255,255,255)\"/></svg>"
            ]
          },
          "metadata": {},
          "execution_count": 3
        }
      ]
    },
    {
      "cell_type": "code",
      "source": [
        "sns.color_palette(\"bright\") #https://seaborn.pydata.org/tutorial/color_palettes.html"
      ],
      "metadata": {
        "colab": {
          "base_uri": "https://localhost:8080/",
          "height": 76
        },
        "id": "LTRthyj_tmif",
        "outputId": "6e35e690-5304-4a84-ae51-2a9c16e4047c"
      },
      "execution_count": null,
      "outputs": [
        {
          "output_type": "execute_result",
          "data": {
            "text/plain": [
              "[(0.00784313725490196, 0.24313725490196078, 1.0),\n",
              " (1.0, 0.48627450980392156, 0.0),\n",
              " (0.10196078431372549, 0.788235294117647, 0.2196078431372549),\n",
              " (0.9098039215686274, 0.0, 0.043137254901960784),\n",
              " (0.5450980392156862, 0.16862745098039217, 0.8862745098039215),\n",
              " (0.6235294117647059, 0.2823529411764706, 0.0),\n",
              " (0.9450980392156862, 0.2980392156862745, 0.7568627450980392),\n",
              " (0.6392156862745098, 0.6392156862745098, 0.6392156862745098),\n",
              " (1.0, 0.7686274509803922, 0.0),\n",
              " (0.0, 0.8431372549019608, 1.0)]"
            ],
            "text/html": [
              "<svg  width=\"550\" height=\"55\"><rect x=\"0\" y=\"0\" width=\"55\" height=\"55\" style=\"fill:#023eff;stroke-width:2;stroke:rgb(255,255,255)\"/><rect x=\"55\" y=\"0\" width=\"55\" height=\"55\" style=\"fill:#ff7c00;stroke-width:2;stroke:rgb(255,255,255)\"/><rect x=\"110\" y=\"0\" width=\"55\" height=\"55\" style=\"fill:#1ac938;stroke-width:2;stroke:rgb(255,255,255)\"/><rect x=\"165\" y=\"0\" width=\"55\" height=\"55\" style=\"fill:#e8000b;stroke-width:2;stroke:rgb(255,255,255)\"/><rect x=\"220\" y=\"0\" width=\"55\" height=\"55\" style=\"fill:#8b2be2;stroke-width:2;stroke:rgb(255,255,255)\"/><rect x=\"275\" y=\"0\" width=\"55\" height=\"55\" style=\"fill:#9f4800;stroke-width:2;stroke:rgb(255,255,255)\"/><rect x=\"330\" y=\"0\" width=\"55\" height=\"55\" style=\"fill:#f14cc1;stroke-width:2;stroke:rgb(255,255,255)\"/><rect x=\"385\" y=\"0\" width=\"55\" height=\"55\" style=\"fill:#a3a3a3;stroke-width:2;stroke:rgb(255,255,255)\"/><rect x=\"440\" y=\"0\" width=\"55\" height=\"55\" style=\"fill:#ffc400;stroke-width:2;stroke:rgb(255,255,255)\"/><rect x=\"495\" y=\"0\" width=\"55\" height=\"55\" style=\"fill:#00d7ff;stroke-width:2;stroke:rgb(255,255,255)\"/></svg>"
            ]
          },
          "metadata": {},
          "execution_count": 6
        }
      ]
    },
    {
      "cell_type": "code",
      "source": [
        "## MATPLOTLIB -> https://matplotlib.org/stable/gallery/color/named_colors.html"
      ],
      "metadata": {
        "id": "8pgUMyf7AZ-z"
      },
      "execution_count": null,
      "outputs": []
    },
    {
      "cell_type": "code",
      "source": [
        "print(px.colors.qualitative.Plotly)\n",
        "print(px.colors.qualitative.D3)\n",
        "print(px.colors.qualitative.G10)\n",
        "\n",
        "fig = px.colors.qualitative.swatches()\n",
        "fig.show()"
      ],
      "metadata": {
        "colab": {
          "base_uri": "https://localhost:8080/",
          "height": 829
        },
        "id": "gzR2cz8pAj72",
        "outputId": "3e05d9ec-dd9b-46d5-926e-0cee05c6126b"
      },
      "execution_count": null,
      "outputs": [
        {
          "output_type": "stream",
          "name": "stdout",
          "text": [
            "['#636EFA', '#EF553B', '#00CC96', '#AB63FA', '#FFA15A', '#19D3F3', '#FF6692', '#B6E880', '#FF97FF', '#FECB52']\n",
            "['#1F77B4', '#FF7F0E', '#2CA02C', '#D62728', '#9467BD', '#8C564B', '#E377C2', '#7F7F7F', '#BCBD22', '#17BECF']\n",
            "['#3366CC', '#DC3912', '#FF9900', '#109618', '#990099', '#0099C6', '#DD4477', '#66AA00', '#B82E2E', '#316395']\n"
          ]
        },
        {
          "output_type": "display_data",
          "data": {
            "text/html": [
              "<html>\n",
              "<head><meta charset=\"utf-8\" /></head>\n",
              "<body>\n",
              "    <div>            <script src=\"https://cdnjs.cloudflare.com/ajax/libs/mathjax/2.7.5/MathJax.js?config=TeX-AMS-MML_SVG\"></script><script type=\"text/javascript\">if (window.MathJax) {MathJax.Hub.Config({SVG: {font: \"STIX-Web\"}});}</script>                <script type=\"text/javascript\">window.PlotlyConfig = {MathJaxConfig: 'local'};</script>\n",
              "        <script src=\"https://cdn.plot.ly/plotly-2.8.3.min.js\"></script>                <div id=\"f316a8b1-796f-4fbc-844f-068c60ee1e8c\" class=\"plotly-graph-div\" style=\"height:760px; width:100%;\"></div>            <script type=\"text/javascript\">                                    window.PLOTLYENV=window.PLOTLYENV || {};                                    if (document.getElementById(\"f316a8b1-796f-4fbc-844f-068c60ee1e8c\")) {                    Plotly.newPlot(                        \"f316a8b1-796f-4fbc-844f-068c60ee1e8c\",                        [{\"customdata\":[0,1,2,3,4,5,6,7,8,9,10],\"hovertemplate\":\"%{y}[%{customdata}] = %{marker.color}<extra></extra>\",\"marker\":{\"color\":[\"rgb(229, 134, 6)\",\"rgb(93, 105, 177)\",\"rgb(82, 188, 163)\",\"rgb(153, 201, 69)\",\"rgb(204, 97, 176)\",\"rgb(36, 121, 108)\",\"rgb(218, 165, 27)\",\"rgb(47, 138, 196)\",\"rgb(118, 78, 159)\",\"rgb(237, 100, 90)\",\"rgb(165, 170, 153)\"]},\"orientation\":\"h\",\"x\":[1,1,1,1,1,1,1,1,1,1,1],\"y\":[\"Vivid\",\"Vivid\",\"Vivid\",\"Vivid\",\"Vivid\",\"Vivid\",\"Vivid\",\"Vivid\",\"Vivid\",\"Vivid\",\"Vivid\"],\"type\":\"bar\"},{\"customdata\":[0,1,2,3,4,5,6,7,8,9,10],\"hovertemplate\":\"%{y}[%{customdata}] = %{marker.color}<extra></extra>\",\"marker\":{\"color\":[\"rgb(136, 204, 238)\",\"rgb(204, 102, 119)\",\"rgb(221, 204, 119)\",\"rgb(17, 119, 51)\",\"rgb(51, 34, 136)\",\"rgb(170, 68, 153)\",\"rgb(68, 170, 153)\",\"rgb(153, 153, 51)\",\"rgb(136, 34, 85)\",\"rgb(102, 17, 0)\",\"rgb(136, 136, 136)\"]},\"orientation\":\"h\",\"x\":[1,1,1,1,1,1,1,1,1,1,1],\"y\":[\"Safe\",\"Safe\",\"Safe\",\"Safe\",\"Safe\",\"Safe\",\"Safe\",\"Safe\",\"Safe\",\"Safe\",\"Safe\"],\"type\":\"bar\"},{\"customdata\":[0,1,2,3,4,5,6,7,8,9,10],\"hovertemplate\":\"%{y}[%{customdata}] = %{marker.color}<extra></extra>\",\"marker\":{\"color\":[\"rgb(95, 70, 144)\",\"rgb(29, 105, 150)\",\"rgb(56, 166, 165)\",\"rgb(15, 133, 84)\",\"rgb(115, 175, 72)\",\"rgb(237, 173, 8)\",\"rgb(225, 124, 5)\",\"rgb(204, 80, 62)\",\"rgb(148, 52, 110)\",\"rgb(111, 64, 112)\",\"rgb(102, 102, 102)\"]},\"orientation\":\"h\",\"x\":[1,1,1,1,1,1,1,1,1,1,1],\"y\":[\"Prism\",\"Prism\",\"Prism\",\"Prism\",\"Prism\",\"Prism\",\"Prism\",\"Prism\",\"Prism\",\"Prism\",\"Prism\"],\"type\":\"bar\"},{\"customdata\":[0,1,2,3,4,5,6,7,8,9,10],\"hovertemplate\":\"%{y}[%{customdata}] = %{marker.color}<extra></extra>\",\"marker\":{\"color\":[\"rgb(102, 197, 204)\",\"rgb(246, 207, 113)\",\"rgb(248, 156, 116)\",\"rgb(220, 176, 242)\",\"rgb(135, 197, 95)\",\"rgb(158, 185, 243)\",\"rgb(254, 136, 177)\",\"rgb(201, 219, 116)\",\"rgb(139, 224, 164)\",\"rgb(180, 151, 231)\",\"rgb(179, 179, 179)\"]},\"orientation\":\"h\",\"x\":[1,1,1,1,1,1,1,1,1,1,1],\"y\":[\"Pastel\",\"Pastel\",\"Pastel\",\"Pastel\",\"Pastel\",\"Pastel\",\"Pastel\",\"Pastel\",\"Pastel\",\"Pastel\",\"Pastel\"],\"type\":\"bar\"},{\"customdata\":[0,1,2,3,4,5,6,7,8,9,10],\"hovertemplate\":\"%{y}[%{customdata}] = %{marker.color}<extra></extra>\",\"marker\":{\"color\":[\"rgb(127, 60, 141)\",\"rgb(17, 165, 121)\",\"rgb(57, 105, 172)\",\"rgb(242, 183, 1)\",\"rgb(231, 63, 116)\",\"rgb(128, 186, 90)\",\"rgb(230, 131, 16)\",\"rgb(0, 134, 149)\",\"rgb(207, 28, 144)\",\"rgb(249, 123, 114)\",\"rgb(165, 170, 153)\"]},\"orientation\":\"h\",\"x\":[1,1,1,1,1,1,1,1,1,1,1],\"y\":[\"Bold\",\"Bold\",\"Bold\",\"Bold\",\"Bold\",\"Bold\",\"Bold\",\"Bold\",\"Bold\",\"Bold\",\"Bold\"],\"type\":\"bar\"},{\"customdata\":[0,1,2,3,4,5,6,7,8,9,10],\"hovertemplate\":\"%{y}[%{customdata}] = %{marker.color}<extra></extra>\",\"marker\":{\"color\":[\"rgb(133, 92, 117)\",\"rgb(217, 175, 107)\",\"rgb(175, 100, 88)\",\"rgb(115, 111, 76)\",\"rgb(82, 106, 131)\",\"rgb(98, 83, 119)\",\"rgb(104, 133, 92)\",\"rgb(156, 156, 94)\",\"rgb(160, 97, 119)\",\"rgb(140, 120, 93)\",\"rgb(124, 124, 124)\"]},\"orientation\":\"h\",\"x\":[1,1,1,1,1,1,1,1,1,1,1],\"y\":[\"Antique\",\"Antique\",\"Antique\",\"Antique\",\"Antique\",\"Antique\",\"Antique\",\"Antique\",\"Antique\",\"Antique\",\"Antique\"],\"type\":\"bar\"},{\"customdata\":[0,1,2,3,4,5,6,7,8,9,10,11],\"hovertemplate\":\"%{y}[%{customdata}] = %{marker.color}<extra></extra>\",\"marker\":{\"color\":[\"rgb(141,211,199)\",\"rgb(255,255,179)\",\"rgb(190,186,218)\",\"rgb(251,128,114)\",\"rgb(128,177,211)\",\"rgb(253,180,98)\",\"rgb(179,222,105)\",\"rgb(252,205,229)\",\"rgb(217,217,217)\",\"rgb(188,128,189)\",\"rgb(204,235,197)\",\"rgb(255,237,111)\"]},\"orientation\":\"h\",\"x\":[1,1,1,1,1,1,1,1,1,1,1,1],\"y\":[\"Set3\",\"Set3\",\"Set3\",\"Set3\",\"Set3\",\"Set3\",\"Set3\",\"Set3\",\"Set3\",\"Set3\",\"Set3\",\"Set3\"],\"type\":\"bar\"},{\"customdata\":[0,1,2,3,4,5,6,7],\"hovertemplate\":\"%{y}[%{customdata}] = %{marker.color}<extra></extra>\",\"marker\":{\"color\":[\"rgb(179,226,205)\",\"rgb(253,205,172)\",\"rgb(203,213,232)\",\"rgb(244,202,228)\",\"rgb(230,245,201)\",\"rgb(255,242,174)\",\"rgb(241,226,204)\",\"rgb(204,204,204)\"]},\"orientation\":\"h\",\"x\":[1,1,1,1,1,1,1,1],\"y\":[\"Pastel2\",\"Pastel2\",\"Pastel2\",\"Pastel2\",\"Pastel2\",\"Pastel2\",\"Pastel2\",\"Pastel2\"],\"type\":\"bar\"},{\"customdata\":[0,1,2,3,4,5,6,7],\"hovertemplate\":\"%{y}[%{customdata}] = %{marker.color}<extra></extra>\",\"marker\":{\"color\":[\"rgb(102,194,165)\",\"rgb(252,141,98)\",\"rgb(141,160,203)\",\"rgb(231,138,195)\",\"rgb(166,216,84)\",\"rgb(255,217,47)\",\"rgb(229,196,148)\",\"rgb(179,179,179)\"]},\"orientation\":\"h\",\"x\":[1,1,1,1,1,1,1,1],\"y\":[\"Set2\",\"Set2\",\"Set2\",\"Set2\",\"Set2\",\"Set2\",\"Set2\",\"Set2\"],\"type\":\"bar\"},{\"customdata\":[0,1,2,3,4,5,6,7],\"hovertemplate\":\"%{y}[%{customdata}] = %{marker.color}<extra></extra>\",\"marker\":{\"color\":[\"rgb(27,158,119)\",\"rgb(217,95,2)\",\"rgb(117,112,179)\",\"rgb(231,41,138)\",\"rgb(102,166,30)\",\"rgb(230,171,2)\",\"rgb(166,118,29)\",\"rgb(102,102,102)\"]},\"orientation\":\"h\",\"x\":[1,1,1,1,1,1,1,1],\"y\":[\"Dark2\",\"Dark2\",\"Dark2\",\"Dark2\",\"Dark2\",\"Dark2\",\"Dark2\",\"Dark2\"],\"type\":\"bar\"},{\"customdata\":[0,1,2,3,4,5,6,7,8],\"hovertemplate\":\"%{y}[%{customdata}] = %{marker.color}<extra></extra>\",\"marker\":{\"color\":[\"rgb(251,180,174)\",\"rgb(179,205,227)\",\"rgb(204,235,197)\",\"rgb(222,203,228)\",\"rgb(254,217,166)\",\"rgb(255,255,204)\",\"rgb(229,216,189)\",\"rgb(253,218,236)\",\"rgb(242,242,242)\"]},\"orientation\":\"h\",\"x\":[1,1,1,1,1,1,1,1,1],\"y\":[\"Pastel1\",\"Pastel1\",\"Pastel1\",\"Pastel1\",\"Pastel1\",\"Pastel1\",\"Pastel1\",\"Pastel1\",\"Pastel1\"],\"type\":\"bar\"},{\"customdata\":[0,1,2,3,4,5,6,7,8],\"hovertemplate\":\"%{y}[%{customdata}] = %{marker.color}<extra></extra>\",\"marker\":{\"color\":[\"rgb(228,26,28)\",\"rgb(55,126,184)\",\"rgb(77,175,74)\",\"rgb(152,78,163)\",\"rgb(255,127,0)\",\"rgb(255,255,51)\",\"rgb(166,86,40)\",\"rgb(247,129,191)\",\"rgb(153,153,153)\"]},\"orientation\":\"h\",\"x\":[1,1,1,1,1,1,1,1,1],\"y\":[\"Set1\",\"Set1\",\"Set1\",\"Set1\",\"Set1\",\"Set1\",\"Set1\",\"Set1\",\"Set1\"],\"type\":\"bar\"},{\"customdata\":[0,1,2,3,4,5,6,7,8,9,10,11,12,13,14,15,16,17,18,19,20,21,22,23],\"hovertemplate\":\"%{y}[%{customdata}] = %{marker.color}<extra></extra>\",\"marker\":{\"color\":[\"#FD3216\",\"#00FE35\",\"#6A76FC\",\"#FED4C4\",\"#FE00CE\",\"#0DF9FF\",\"#F6F926\",\"#FF9616\",\"#479B55\",\"#EEA6FB\",\"#DC587D\",\"#D626FF\",\"#6E899C\",\"#00B5F7\",\"#B68E00\",\"#C9FBE5\",\"#FF0092\",\"#22FFA7\",\"#E3EE9E\",\"#86CE00\",\"#BC7196\",\"#7E7DCD\",\"#FC6955\",\"#E48F72\"]},\"orientation\":\"h\",\"x\":[1,1,1,1,1,1,1,1,1,1,1,1,1,1,1,1,1,1,1,1,1,1,1,1],\"y\":[\"Light24\",\"Light24\",\"Light24\",\"Light24\",\"Light24\",\"Light24\",\"Light24\",\"Light24\",\"Light24\",\"Light24\",\"Light24\",\"Light24\",\"Light24\",\"Light24\",\"Light24\",\"Light24\",\"Light24\",\"Light24\",\"Light24\",\"Light24\",\"Light24\",\"Light24\",\"Light24\",\"Light24\"],\"type\":\"bar\"},{\"customdata\":[0,1,2,3,4,5,6,7,8,9,10,11,12,13,14,15,16,17,18,19,20,21,22,23],\"hovertemplate\":\"%{y}[%{customdata}] = %{marker.color}<extra></extra>\",\"marker\":{\"color\":[\"#2E91E5\",\"#E15F99\",\"#1CA71C\",\"#FB0D0D\",\"#DA16FF\",\"#222A2A\",\"#B68100\",\"#750D86\",\"#EB663B\",\"#511CFB\",\"#00A08B\",\"#FB00D1\",\"#FC0080\",\"#B2828D\",\"#6C7C32\",\"#778AAE\",\"#862A16\",\"#A777F1\",\"#620042\",\"#1616A7\",\"#DA60CA\",\"#6C4516\",\"#0D2A63\",\"#AF0038\"]},\"orientation\":\"h\",\"x\":[1,1,1,1,1,1,1,1,1,1,1,1,1,1,1,1,1,1,1,1,1,1,1,1],\"y\":[\"Dark24\",\"Dark24\",\"Dark24\",\"Dark24\",\"Dark24\",\"Dark24\",\"Dark24\",\"Dark24\",\"Dark24\",\"Dark24\",\"Dark24\",\"Dark24\",\"Dark24\",\"Dark24\",\"Dark24\",\"Dark24\",\"Dark24\",\"Dark24\",\"Dark24\",\"Dark24\",\"Dark24\",\"Dark24\",\"Dark24\",\"Dark24\"],\"type\":\"bar\"},{\"customdata\":[0,1,2,3,4,5,6,7,8,9,10,11,12,13,14,15,16,17,18,19,20,21,22,23,24,25],\"hovertemplate\":\"%{y}[%{customdata}] = %{marker.color}<extra></extra>\",\"marker\":{\"color\":[\"#AA0DFE\",\"#3283FE\",\"#85660D\",\"#782AB6\",\"#565656\",\"#1C8356\",\"#16FF32\",\"#F7E1A0\",\"#E2E2E2\",\"#1CBE4F\",\"#C4451C\",\"#DEA0FD\",\"#FE00FA\",\"#325A9B\",\"#FEAF16\",\"#F8A19F\",\"#90AD1C\",\"#F6222E\",\"#1CFFCE\",\"#2ED9FF\",\"#B10DA1\",\"#C075A6\",\"#FC1CBF\",\"#B00068\",\"#FBE426\",\"#FA0087\"]},\"orientation\":\"h\",\"x\":[1,1,1,1,1,1,1,1,1,1,1,1,1,1,1,1,1,1,1,1,1,1,1,1,1,1],\"y\":[\"Alphabet\",\"Alphabet\",\"Alphabet\",\"Alphabet\",\"Alphabet\",\"Alphabet\",\"Alphabet\",\"Alphabet\",\"Alphabet\",\"Alphabet\",\"Alphabet\",\"Alphabet\",\"Alphabet\",\"Alphabet\",\"Alphabet\",\"Alphabet\",\"Alphabet\",\"Alphabet\",\"Alphabet\",\"Alphabet\",\"Alphabet\",\"Alphabet\",\"Alphabet\",\"Alphabet\",\"Alphabet\",\"Alphabet\"],\"type\":\"bar\"},{\"customdata\":[0,1,2,3,4,5,6,7,8,9],\"hovertemplate\":\"%{y}[%{customdata}] = %{marker.color}<extra></extra>\",\"marker\":{\"color\":[\"#4C78A8\",\"#F58518\",\"#E45756\",\"#72B7B2\",\"#54A24B\",\"#EECA3B\",\"#B279A2\",\"#FF9DA6\",\"#9D755D\",\"#BAB0AC\"]},\"orientation\":\"h\",\"x\":[1,1,1,1,1,1,1,1,1,1],\"y\":[\"T10\",\"T10\",\"T10\",\"T10\",\"T10\",\"T10\",\"T10\",\"T10\",\"T10\",\"T10\"],\"type\":\"bar\"},{\"customdata\":[0,1,2,3,4,5,6,7,8,9],\"hovertemplate\":\"%{y}[%{customdata}] = %{marker.color}<extra></extra>\",\"marker\":{\"color\":[\"#3366CC\",\"#DC3912\",\"#FF9900\",\"#109618\",\"#990099\",\"#0099C6\",\"#DD4477\",\"#66AA00\",\"#B82E2E\",\"#316395\"]},\"orientation\":\"h\",\"x\":[1,1,1,1,1,1,1,1,1,1],\"y\":[\"G10\",\"G10\",\"G10\",\"G10\",\"G10\",\"G10\",\"G10\",\"G10\",\"G10\",\"G10\"],\"type\":\"bar\"},{\"customdata\":[0,1,2,3,4,5,6,7,8,9],\"hovertemplate\":\"%{y}[%{customdata}] = %{marker.color}<extra></extra>\",\"marker\":{\"color\":[\"#1F77B4\",\"#FF7F0E\",\"#2CA02C\",\"#D62728\",\"#9467BD\",\"#8C564B\",\"#E377C2\",\"#7F7F7F\",\"#BCBD22\",\"#17BECF\"]},\"orientation\":\"h\",\"x\":[1,1,1,1,1,1,1,1,1,1],\"y\":[\"D3\",\"D3\",\"D3\",\"D3\",\"D3\",\"D3\",\"D3\",\"D3\",\"D3\",\"D3\"],\"type\":\"bar\"},{\"customdata\":[0,1,2,3,4,5,6,7,8,9],\"hovertemplate\":\"%{y}[%{customdata}] = %{marker.color}<extra></extra>\",\"marker\":{\"color\":[\"#636EFA\",\"#EF553B\",\"#00CC96\",\"#AB63FA\",\"#FFA15A\",\"#19D3F3\",\"#FF6692\",\"#B6E880\",\"#FF97FF\",\"#FECB52\"]},\"orientation\":\"h\",\"x\":[1,1,1,1,1,1,1,1,1,1],\"y\":[\"Plotly\",\"Plotly\",\"Plotly\",\"Plotly\",\"Plotly\",\"Plotly\",\"Plotly\",\"Plotly\",\"Plotly\",\"Plotly\"],\"type\":\"bar\"}],                        {\"bargap\":0.5,\"barmode\":\"stack\",\"barnorm\":\"fraction\",\"height\":760,\"margin\":{\"b\":10},\"showlegend\":false,\"template\":{\"data\":{\"barpolar\":[{\"marker\":{\"line\":{\"color\":\"#E5ECF6\",\"width\":0.5},\"pattern\":{\"fillmode\":\"overlay\",\"size\":10,\"solidity\":0.2}},\"type\":\"barpolar\"}],\"bar\":[{\"error_x\":{\"color\":\"#2a3f5f\"},\"error_y\":{\"color\":\"#2a3f5f\"},\"marker\":{\"line\":{\"color\":\"#E5ECF6\",\"width\":0.5},\"pattern\":{\"fillmode\":\"overlay\",\"size\":10,\"solidity\":0.2}},\"type\":\"bar\"}],\"carpet\":[{\"aaxis\":{\"endlinecolor\":\"#2a3f5f\",\"gridcolor\":\"white\",\"linecolor\":\"white\",\"minorgridcolor\":\"white\",\"startlinecolor\":\"#2a3f5f\"},\"baxis\":{\"endlinecolor\":\"#2a3f5f\",\"gridcolor\":\"white\",\"linecolor\":\"white\",\"minorgridcolor\":\"white\",\"startlinecolor\":\"#2a3f5f\"},\"type\":\"carpet\"}],\"choropleth\":[{\"colorbar\":{\"outlinewidth\":0,\"ticks\":\"\"},\"type\":\"choropleth\"}],\"contourcarpet\":[{\"colorbar\":{\"outlinewidth\":0,\"ticks\":\"\"},\"type\":\"contourcarpet\"}],\"contour\":[{\"colorbar\":{\"outlinewidth\":0,\"ticks\":\"\"},\"colorscale\":[[0.0,\"#0d0887\"],[0.1111111111111111,\"#46039f\"],[0.2222222222222222,\"#7201a8\"],[0.3333333333333333,\"#9c179e\"],[0.4444444444444444,\"#bd3786\"],[0.5555555555555556,\"#d8576b\"],[0.6666666666666666,\"#ed7953\"],[0.7777777777777778,\"#fb9f3a\"],[0.8888888888888888,\"#fdca26\"],[1.0,\"#f0f921\"]],\"type\":\"contour\"}],\"heatmapgl\":[{\"colorbar\":{\"outlinewidth\":0,\"ticks\":\"\"},\"colorscale\":[[0.0,\"#0d0887\"],[0.1111111111111111,\"#46039f\"],[0.2222222222222222,\"#7201a8\"],[0.3333333333333333,\"#9c179e\"],[0.4444444444444444,\"#bd3786\"],[0.5555555555555556,\"#d8576b\"],[0.6666666666666666,\"#ed7953\"],[0.7777777777777778,\"#fb9f3a\"],[0.8888888888888888,\"#fdca26\"],[1.0,\"#f0f921\"]],\"type\":\"heatmapgl\"}],\"heatmap\":[{\"colorbar\":{\"outlinewidth\":0,\"ticks\":\"\"},\"colorscale\":[[0.0,\"#0d0887\"],[0.1111111111111111,\"#46039f\"],[0.2222222222222222,\"#7201a8\"],[0.3333333333333333,\"#9c179e\"],[0.4444444444444444,\"#bd3786\"],[0.5555555555555556,\"#d8576b\"],[0.6666666666666666,\"#ed7953\"],[0.7777777777777778,\"#fb9f3a\"],[0.8888888888888888,\"#fdca26\"],[1.0,\"#f0f921\"]],\"type\":\"heatmap\"}],\"histogram2dcontour\":[{\"colorbar\":{\"outlinewidth\":0,\"ticks\":\"\"},\"colorscale\":[[0.0,\"#0d0887\"],[0.1111111111111111,\"#46039f\"],[0.2222222222222222,\"#7201a8\"],[0.3333333333333333,\"#9c179e\"],[0.4444444444444444,\"#bd3786\"],[0.5555555555555556,\"#d8576b\"],[0.6666666666666666,\"#ed7953\"],[0.7777777777777778,\"#fb9f3a\"],[0.8888888888888888,\"#fdca26\"],[1.0,\"#f0f921\"]],\"type\":\"histogram2dcontour\"}],\"histogram2d\":[{\"colorbar\":{\"outlinewidth\":0,\"ticks\":\"\"},\"colorscale\":[[0.0,\"#0d0887\"],[0.1111111111111111,\"#46039f\"],[0.2222222222222222,\"#7201a8\"],[0.3333333333333333,\"#9c179e\"],[0.4444444444444444,\"#bd3786\"],[0.5555555555555556,\"#d8576b\"],[0.6666666666666666,\"#ed7953\"],[0.7777777777777778,\"#fb9f3a\"],[0.8888888888888888,\"#fdca26\"],[1.0,\"#f0f921\"]],\"type\":\"histogram2d\"}],\"histogram\":[{\"marker\":{\"pattern\":{\"fillmode\":\"overlay\",\"size\":10,\"solidity\":0.2}},\"type\":\"histogram\"}],\"mesh3d\":[{\"colorbar\":{\"outlinewidth\":0,\"ticks\":\"\"},\"type\":\"mesh3d\"}],\"parcoords\":[{\"line\":{\"colorbar\":{\"outlinewidth\":0,\"ticks\":\"\"}},\"type\":\"parcoords\"}],\"pie\":[{\"automargin\":true,\"type\":\"pie\"}],\"scatter3d\":[{\"line\":{\"colorbar\":{\"outlinewidth\":0,\"ticks\":\"\"}},\"marker\":{\"colorbar\":{\"outlinewidth\":0,\"ticks\":\"\"}},\"type\":\"scatter3d\"}],\"scattercarpet\":[{\"marker\":{\"colorbar\":{\"outlinewidth\":0,\"ticks\":\"\"}},\"type\":\"scattercarpet\"}],\"scattergeo\":[{\"marker\":{\"colorbar\":{\"outlinewidth\":0,\"ticks\":\"\"}},\"type\":\"scattergeo\"}],\"scattergl\":[{\"marker\":{\"colorbar\":{\"outlinewidth\":0,\"ticks\":\"\"}},\"type\":\"scattergl\"}],\"scattermapbox\":[{\"marker\":{\"colorbar\":{\"outlinewidth\":0,\"ticks\":\"\"}},\"type\":\"scattermapbox\"}],\"scatterpolargl\":[{\"marker\":{\"colorbar\":{\"outlinewidth\":0,\"ticks\":\"\"}},\"type\":\"scatterpolargl\"}],\"scatterpolar\":[{\"marker\":{\"colorbar\":{\"outlinewidth\":0,\"ticks\":\"\"}},\"type\":\"scatterpolar\"}],\"scatter\":[{\"marker\":{\"colorbar\":{\"outlinewidth\":0,\"ticks\":\"\"}},\"type\":\"scatter\"}],\"scatterternary\":[{\"marker\":{\"colorbar\":{\"outlinewidth\":0,\"ticks\":\"\"}},\"type\":\"scatterternary\"}],\"surface\":[{\"colorbar\":{\"outlinewidth\":0,\"ticks\":\"\"},\"colorscale\":[[0.0,\"#0d0887\"],[0.1111111111111111,\"#46039f\"],[0.2222222222222222,\"#7201a8\"],[0.3333333333333333,\"#9c179e\"],[0.4444444444444444,\"#bd3786\"],[0.5555555555555556,\"#d8576b\"],[0.6666666666666666,\"#ed7953\"],[0.7777777777777778,\"#fb9f3a\"],[0.8888888888888888,\"#fdca26\"],[1.0,\"#f0f921\"]],\"type\":\"surface\"}],\"table\":[{\"cells\":{\"fill\":{\"color\":\"#EBF0F8\"},\"line\":{\"color\":\"white\"}},\"header\":{\"fill\":{\"color\":\"#C8D4E3\"},\"line\":{\"color\":\"white\"}},\"type\":\"table\"}]},\"layout\":{\"annotationdefaults\":{\"arrowcolor\":\"#2a3f5f\",\"arrowhead\":0,\"arrowwidth\":1},\"autotypenumbers\":\"strict\",\"coloraxis\":{\"colorbar\":{\"outlinewidth\":0,\"ticks\":\"\"}},\"colorscale\":{\"diverging\":[[0,\"#8e0152\"],[0.1,\"#c51b7d\"],[0.2,\"#de77ae\"],[0.3,\"#f1b6da\"],[0.4,\"#fde0ef\"],[0.5,\"#f7f7f7\"],[0.6,\"#e6f5d0\"],[0.7,\"#b8e186\"],[0.8,\"#7fbc41\"],[0.9,\"#4d9221\"],[1,\"#276419\"]],\"sequential\":[[0.0,\"#0d0887\"],[0.1111111111111111,\"#46039f\"],[0.2222222222222222,\"#7201a8\"],[0.3333333333333333,\"#9c179e\"],[0.4444444444444444,\"#bd3786\"],[0.5555555555555556,\"#d8576b\"],[0.6666666666666666,\"#ed7953\"],[0.7777777777777778,\"#fb9f3a\"],[0.8888888888888888,\"#fdca26\"],[1.0,\"#f0f921\"]],\"sequentialminus\":[[0.0,\"#0d0887\"],[0.1111111111111111,\"#46039f\"],[0.2222222222222222,\"#7201a8\"],[0.3333333333333333,\"#9c179e\"],[0.4444444444444444,\"#bd3786\"],[0.5555555555555556,\"#d8576b\"],[0.6666666666666666,\"#ed7953\"],[0.7777777777777778,\"#fb9f3a\"],[0.8888888888888888,\"#fdca26\"],[1.0,\"#f0f921\"]]},\"colorway\":[\"#636efa\",\"#EF553B\",\"#00cc96\",\"#ab63fa\",\"#FFA15A\",\"#19d3f3\",\"#FF6692\",\"#B6E880\",\"#FF97FF\",\"#FECB52\"],\"font\":{\"color\":\"#2a3f5f\"},\"geo\":{\"bgcolor\":\"white\",\"lakecolor\":\"white\",\"landcolor\":\"#E5ECF6\",\"showlakes\":true,\"showland\":true,\"subunitcolor\":\"white\"},\"hoverlabel\":{\"align\":\"left\"},\"hovermode\":\"closest\",\"mapbox\":{\"style\":\"light\"},\"paper_bgcolor\":\"white\",\"plot_bgcolor\":\"#E5ECF6\",\"polar\":{\"angularaxis\":{\"gridcolor\":\"white\",\"linecolor\":\"white\",\"ticks\":\"\"},\"bgcolor\":\"#E5ECF6\",\"radialaxis\":{\"gridcolor\":\"white\",\"linecolor\":\"white\",\"ticks\":\"\"}},\"scene\":{\"xaxis\":{\"backgroundcolor\":\"#E5ECF6\",\"gridcolor\":\"white\",\"gridwidth\":2,\"linecolor\":\"white\",\"showbackground\":true,\"ticks\":\"\",\"zerolinecolor\":\"white\"},\"yaxis\":{\"backgroundcolor\":\"#E5ECF6\",\"gridcolor\":\"white\",\"gridwidth\":2,\"linecolor\":\"white\",\"showbackground\":true,\"ticks\":\"\",\"zerolinecolor\":\"white\"},\"zaxis\":{\"backgroundcolor\":\"#E5ECF6\",\"gridcolor\":\"white\",\"gridwidth\":2,\"linecolor\":\"white\",\"showbackground\":true,\"ticks\":\"\",\"zerolinecolor\":\"white\"}},\"shapedefaults\":{\"line\":{\"color\":\"#2a3f5f\"}},\"ternary\":{\"aaxis\":{\"gridcolor\":\"white\",\"linecolor\":\"white\",\"ticks\":\"\"},\"baxis\":{\"gridcolor\":\"white\",\"linecolor\":\"white\",\"ticks\":\"\"},\"bgcolor\":\"#E5ECF6\",\"caxis\":{\"gridcolor\":\"white\",\"linecolor\":\"white\",\"ticks\":\"\"}},\"title\":{\"x\":0.05},\"xaxis\":{\"automargin\":true,\"gridcolor\":\"white\",\"linecolor\":\"white\",\"ticks\":\"\",\"title\":{\"standoff\":15},\"zerolinecolor\":\"white\",\"zerolinewidth\":2},\"yaxis\":{\"automargin\":true,\"gridcolor\":\"white\",\"linecolor\":\"white\",\"ticks\":\"\",\"title\":{\"standoff\":15},\"zerolinecolor\":\"white\",\"zerolinewidth\":2}}},\"title\":{\"text\":\"plotly.colors.qualitative\"},\"xaxis\":{\"range\":[-0.02,1.02],\"showgrid\":false,\"showticklabels\":false}},                        {\"responsive\": true}                    ).then(function(){\n",
              "                            \n",
              "var gd = document.getElementById('f316a8b1-796f-4fbc-844f-068c60ee1e8c');\n",
              "var x = new MutationObserver(function (mutations, observer) {{\n",
              "        var display = window.getComputedStyle(gd).display;\n",
              "        if (!display || display === 'none') {{\n",
              "            console.log([gd, 'removed!']);\n",
              "            Plotly.purge(gd);\n",
              "            observer.disconnect();\n",
              "        }}\n",
              "}});\n",
              "\n",
              "// Listen for the removal of the full notebook cells\n",
              "var notebookContainer = gd.closest('#notebook-container');\n",
              "if (notebookContainer) {{\n",
              "    x.observe(notebookContainer, {childList: true});\n",
              "}}\n",
              "\n",
              "// Listen for the clearing of the current output cell\n",
              "var outputEl = gd.closest('.output');\n",
              "if (outputEl) {{\n",
              "    x.observe(outputEl, {childList: true});\n",
              "}}\n",
              "\n",
              "                        })                };                            </script>        </div>\n",
              "</body>\n",
              "</html>"
            ]
          },
          "metadata": {}
        }
      ]
    },
    {
      "cell_type": "code",
      "source": [
        "def show_named_plotly_colours():\n",
        "    \"\"\"\n",
        "    function to display to user the colours to match plotly's named\n",
        "    css colours.\n",
        "\n",
        "    Reference:\n",
        "        #https://community.plotly.com/t/plotly-colours-list/11730/3\n",
        "\n",
        "    Returns:\n",
        "        plotly dataframe with cell colour to match named colour name\n",
        "\n",
        "    \"\"\"\n",
        "    s='aliceblue, antiquewhite, aqua, aquamarine, azure,\\\n",
        "        beige, bisque, black, blanchedalmond, blue,\\\n",
        "        blueviolet, brown, burlywood, cadetblue,\\\n",
        "        chartreuse, chocolate, coral, cornflowerblue,\\\n",
        "        cornsilk, crimson, cyan, darkblue, darkcyan,\\\n",
        "        darkgoldenrod, darkgray, darkgrey, darkgreen,\\\n",
        "        darkkhaki, darkmagenta, darkolivegreen, darkorange,\\\n",
        "        darkorchid, darkred, darksalmon, darkseagreen,\\\n",
        "        darkslateblue, darkslategray, darkslategrey,\\\n",
        "        darkturquoise, darkviolet, deeppink, deepskyblue,\\\n",
        "        dimgray, dimgrey, dodgerblue, firebrick,\\\n",
        "        floralwhite, forestgreen, fuchsia, gainsboro,\\\n",
        "        ghostwhite, gold, goldenrod, gray, grey, green,\\\n",
        "        greenyellow, honeydew, hotpink, indianred, indigo,\\\n",
        "        ivory, khaki, lavender, lavenderblush, lawngreen,\\\n",
        "        lemonchiffon, lightblue, lightcoral, lightcyan,\\\n",
        "        lightgoldenrodyellow, lightgray, lightgrey,\\\n",
        "        lightgreen, lightpink, lightsalmon, lightseagreen,\\\n",
        "        lightskyblue, lightslategray, lightslategrey,\\\n",
        "        lightsteelblue, lightyellow, lime, limegreen,\\\n",
        "        linen, magenta, maroon, mediumaquamarine,\\\n",
        "        mediumblue, mediumorchid, mediumpurple,\\\n",
        "        mediumseagreen, mediumslateblue, mediumspringgreen,\\\n",
        "        mediumturquoise, mediumvioletred, midnightblue,\\\n",
        "        mintcream, mistyrose, moccasin, navajowhite, navy,\\\n",
        "        oldlace, olive, olivedrab, orange, orangered,\\\n",
        "        orchid, palegoldenrod, palegreen, paleturquoise,\\\n",
        "        palevioletred, papayawhip, peachpuff, peru, pink,\\\n",
        "        plum, powderblue, purple, red, rosybrown,\\\n",
        "        royalblue, saddlebrown, salmon, sandybrown,\\\n",
        "        seagreen, seashell, sienna, silver, skyblue,\\\n",
        "        slateblue, slategray, slategrey, snow, springgreen,\\\n",
        "        steelblue, tan, teal, thistle, tomato, turquoise,\\\n",
        "        violet, wheat, white, whitesmoke, yellow,\\\n",
        "        yellowgreen'\n",
        "        \n",
        "    li=s.split(',')\n",
        "    li=[l.replace('\\n','') for l in li]\n",
        "    li=[l.replace(' ','') for l in li]\n",
        "\n",
        "    import pandas as pd\n",
        "    import plotly.graph_objects as go\n",
        "\n",
        "    df=pd.DataFrame.from_dict({'colour': li})\n",
        "    fig = go.Figure(data=[go.Table(\n",
        "      header=dict(\n",
        "        values=[\"Plotly Named CSS colours\"],\n",
        "        line_color='black', fill_color='white',\n",
        "        align='center', font=dict(color='black', size=14)\n",
        "      ),\n",
        "      cells=dict(\n",
        "        values=[df.colour],\n",
        "        line_color=[df.colour], fill_color=[df.colour],\n",
        "        align='center', font=dict(color='black', size=11)\n",
        "      ))\n",
        "    ])\n",
        "\n",
        "    fig.show()\n",
        "show_named_plotly_colours()"
      ],
      "metadata": {
        "colab": {
          "base_uri": "https://localhost:8080/",
          "height": 542
        },
        "id": "hnLoG0mD_lEH",
        "outputId": "63b69733-426e-4e3a-8500-a0f7ddf8ea90"
      },
      "execution_count": null,
      "outputs": [
        {
          "output_type": "display_data",
          "data": {
            "text/html": [
              "<html>\n",
              "<head><meta charset=\"utf-8\" /></head>\n",
              "<body>\n",
              "    <div>            <script src=\"https://cdnjs.cloudflare.com/ajax/libs/mathjax/2.7.5/MathJax.js?config=TeX-AMS-MML_SVG\"></script><script type=\"text/javascript\">if (window.MathJax) {MathJax.Hub.Config({SVG: {font: \"STIX-Web\"}});}</script>                <script type=\"text/javascript\">window.PlotlyConfig = {MathJaxConfig: 'local'};</script>\n",
              "        <script src=\"https://cdn.plot.ly/plotly-2.8.3.min.js\"></script>                <div id=\"e14f5f38-c2eb-4ed4-a2bf-65ff0f63b32a\" class=\"plotly-graph-div\" style=\"height:525px; width:100%;\"></div>            <script type=\"text/javascript\">                                    window.PLOTLYENV=window.PLOTLYENV || {};                                    if (document.getElementById(\"e14f5f38-c2eb-4ed4-a2bf-65ff0f63b32a\")) {                    Plotly.newPlot(                        \"e14f5f38-c2eb-4ed4-a2bf-65ff0f63b32a\",                        [{\"cells\":{\"align\":\"center\",\"fill\":{\"color\":[[\"aliceblue\",\"antiquewhite\",\"aqua\",\"aquamarine\",\"azure\",\"beige\",\"bisque\",\"black\",\"blanchedalmond\",\"blue\",\"blueviolet\",\"brown\",\"burlywood\",\"cadetblue\",\"chartreuse\",\"chocolate\",\"coral\",\"cornflowerblue\",\"cornsilk\",\"crimson\",\"cyan\",\"darkblue\",\"darkcyan\",\"darkgoldenrod\",\"darkgray\",\"darkgrey\",\"darkgreen\",\"darkkhaki\",\"darkmagenta\",\"darkolivegreen\",\"darkorange\",\"darkorchid\",\"darkred\",\"darksalmon\",\"darkseagreen\",\"darkslateblue\",\"darkslategray\",\"darkslategrey\",\"darkturquoise\",\"darkviolet\",\"deeppink\",\"deepskyblue\",\"dimgray\",\"dimgrey\",\"dodgerblue\",\"firebrick\",\"floralwhite\",\"forestgreen\",\"fuchsia\",\"gainsboro\",\"ghostwhite\",\"gold\",\"goldenrod\",\"gray\",\"grey\",\"green\",\"greenyellow\",\"honeydew\",\"hotpink\",\"indianred\",\"indigo\",\"ivory\",\"khaki\",\"lavender\",\"lavenderblush\",\"lawngreen\",\"lemonchiffon\",\"lightblue\",\"lightcoral\",\"lightcyan\",\"lightgoldenrodyellow\",\"lightgray\",\"lightgrey\",\"lightgreen\",\"lightpink\",\"lightsalmon\",\"lightseagreen\",\"lightskyblue\",\"lightslategray\",\"lightslategrey\",\"lightsteelblue\",\"lightyellow\",\"lime\",\"limegreen\",\"linen\",\"magenta\",\"maroon\",\"mediumaquamarine\",\"mediumblue\",\"mediumorchid\",\"mediumpurple\",\"mediumseagreen\",\"mediumslateblue\",\"mediumspringgreen\",\"mediumturquoise\",\"mediumvioletred\",\"midnightblue\",\"mintcream\",\"mistyrose\",\"moccasin\",\"navajowhite\",\"navy\",\"oldlace\",\"olive\",\"olivedrab\",\"orange\",\"orangered\",\"orchid\",\"palegoldenrod\",\"palegreen\",\"paleturquoise\",\"palevioletred\",\"papayawhip\",\"peachpuff\",\"peru\",\"pink\",\"plum\",\"powderblue\",\"purple\",\"red\",\"rosybrown\",\"royalblue\",\"saddlebrown\",\"salmon\",\"sandybrown\",\"seagreen\",\"seashell\",\"sienna\",\"silver\",\"skyblue\",\"slateblue\",\"slategray\",\"slategrey\",\"snow\",\"springgreen\",\"steelblue\",\"tan\",\"teal\",\"thistle\",\"tomato\",\"turquoise\",\"violet\",\"wheat\",\"white\",\"whitesmoke\",\"yellow\",\"yellowgreen\"]]},\"font\":{\"color\":\"black\",\"size\":11},\"line\":{\"color\":[[\"aliceblue\",\"antiquewhite\",\"aqua\",\"aquamarine\",\"azure\",\"beige\",\"bisque\",\"black\",\"blanchedalmond\",\"blue\",\"blueviolet\",\"brown\",\"burlywood\",\"cadetblue\",\"chartreuse\",\"chocolate\",\"coral\",\"cornflowerblue\",\"cornsilk\",\"crimson\",\"cyan\",\"darkblue\",\"darkcyan\",\"darkgoldenrod\",\"darkgray\",\"darkgrey\",\"darkgreen\",\"darkkhaki\",\"darkmagenta\",\"darkolivegreen\",\"darkorange\",\"darkorchid\",\"darkred\",\"darksalmon\",\"darkseagreen\",\"darkslateblue\",\"darkslategray\",\"darkslategrey\",\"darkturquoise\",\"darkviolet\",\"deeppink\",\"deepskyblue\",\"dimgray\",\"dimgrey\",\"dodgerblue\",\"firebrick\",\"floralwhite\",\"forestgreen\",\"fuchsia\",\"gainsboro\",\"ghostwhite\",\"gold\",\"goldenrod\",\"gray\",\"grey\",\"green\",\"greenyellow\",\"honeydew\",\"hotpink\",\"indianred\",\"indigo\",\"ivory\",\"khaki\",\"lavender\",\"lavenderblush\",\"lawngreen\",\"lemonchiffon\",\"lightblue\",\"lightcoral\",\"lightcyan\",\"lightgoldenrodyellow\",\"lightgray\",\"lightgrey\",\"lightgreen\",\"lightpink\",\"lightsalmon\",\"lightseagreen\",\"lightskyblue\",\"lightslategray\",\"lightslategrey\",\"lightsteelblue\",\"lightyellow\",\"lime\",\"limegreen\",\"linen\",\"magenta\",\"maroon\",\"mediumaquamarine\",\"mediumblue\",\"mediumorchid\",\"mediumpurple\",\"mediumseagreen\",\"mediumslateblue\",\"mediumspringgreen\",\"mediumturquoise\",\"mediumvioletred\",\"midnightblue\",\"mintcream\",\"mistyrose\",\"moccasin\",\"navajowhite\",\"navy\",\"oldlace\",\"olive\",\"olivedrab\",\"orange\",\"orangered\",\"orchid\",\"palegoldenrod\",\"palegreen\",\"paleturquoise\",\"palevioletred\",\"papayawhip\",\"peachpuff\",\"peru\",\"pink\",\"plum\",\"powderblue\",\"purple\",\"red\",\"rosybrown\",\"royalblue\",\"saddlebrown\",\"salmon\",\"sandybrown\",\"seagreen\",\"seashell\",\"sienna\",\"silver\",\"skyblue\",\"slateblue\",\"slategray\",\"slategrey\",\"snow\",\"springgreen\",\"steelblue\",\"tan\",\"teal\",\"thistle\",\"tomato\",\"turquoise\",\"violet\",\"wheat\",\"white\",\"whitesmoke\",\"yellow\",\"yellowgreen\"]]},\"values\":[[\"aliceblue\",\"antiquewhite\",\"aqua\",\"aquamarine\",\"azure\",\"beige\",\"bisque\",\"black\",\"blanchedalmond\",\"blue\",\"blueviolet\",\"brown\",\"burlywood\",\"cadetblue\",\"chartreuse\",\"chocolate\",\"coral\",\"cornflowerblue\",\"cornsilk\",\"crimson\",\"cyan\",\"darkblue\",\"darkcyan\",\"darkgoldenrod\",\"darkgray\",\"darkgrey\",\"darkgreen\",\"darkkhaki\",\"darkmagenta\",\"darkolivegreen\",\"darkorange\",\"darkorchid\",\"darkred\",\"darksalmon\",\"darkseagreen\",\"darkslateblue\",\"darkslategray\",\"darkslategrey\",\"darkturquoise\",\"darkviolet\",\"deeppink\",\"deepskyblue\",\"dimgray\",\"dimgrey\",\"dodgerblue\",\"firebrick\",\"floralwhite\",\"forestgreen\",\"fuchsia\",\"gainsboro\",\"ghostwhite\",\"gold\",\"goldenrod\",\"gray\",\"grey\",\"green\",\"greenyellow\",\"honeydew\",\"hotpink\",\"indianred\",\"indigo\",\"ivory\",\"khaki\",\"lavender\",\"lavenderblush\",\"lawngreen\",\"lemonchiffon\",\"lightblue\",\"lightcoral\",\"lightcyan\",\"lightgoldenrodyellow\",\"lightgray\",\"lightgrey\",\"lightgreen\",\"lightpink\",\"lightsalmon\",\"lightseagreen\",\"lightskyblue\",\"lightslategray\",\"lightslategrey\",\"lightsteelblue\",\"lightyellow\",\"lime\",\"limegreen\",\"linen\",\"magenta\",\"maroon\",\"mediumaquamarine\",\"mediumblue\",\"mediumorchid\",\"mediumpurple\",\"mediumseagreen\",\"mediumslateblue\",\"mediumspringgreen\",\"mediumturquoise\",\"mediumvioletred\",\"midnightblue\",\"mintcream\",\"mistyrose\",\"moccasin\",\"navajowhite\",\"navy\",\"oldlace\",\"olive\",\"olivedrab\",\"orange\",\"orangered\",\"orchid\",\"palegoldenrod\",\"palegreen\",\"paleturquoise\",\"palevioletred\",\"papayawhip\",\"peachpuff\",\"peru\",\"pink\",\"plum\",\"powderblue\",\"purple\",\"red\",\"rosybrown\",\"royalblue\",\"saddlebrown\",\"salmon\",\"sandybrown\",\"seagreen\",\"seashell\",\"sienna\",\"silver\",\"skyblue\",\"slateblue\",\"slategray\",\"slategrey\",\"snow\",\"springgreen\",\"steelblue\",\"tan\",\"teal\",\"thistle\",\"tomato\",\"turquoise\",\"violet\",\"wheat\",\"white\",\"whitesmoke\",\"yellow\",\"yellowgreen\"]]},\"header\":{\"align\":\"center\",\"fill\":{\"color\":\"white\"},\"font\":{\"color\":\"black\",\"size\":14},\"line\":{\"color\":\"black\"},\"values\":[\"Plotly Named CSS colours\"]},\"type\":\"table\"}],                        {\"template\":{\"data\":{\"bar\":[{\"error_x\":{\"color\":\"#2a3f5f\"},\"error_y\":{\"color\":\"#2a3f5f\"},\"marker\":{\"line\":{\"color\":\"#E5ECF6\",\"width\":0.5},\"pattern\":{\"fillmode\":\"overlay\",\"size\":10,\"solidity\":0.2}},\"type\":\"bar\"}],\"barpolar\":[{\"marker\":{\"line\":{\"color\":\"#E5ECF6\",\"width\":0.5},\"pattern\":{\"fillmode\":\"overlay\",\"size\":10,\"solidity\":0.2}},\"type\":\"barpolar\"}],\"carpet\":[{\"aaxis\":{\"endlinecolor\":\"#2a3f5f\",\"gridcolor\":\"white\",\"linecolor\":\"white\",\"minorgridcolor\":\"white\",\"startlinecolor\":\"#2a3f5f\"},\"baxis\":{\"endlinecolor\":\"#2a3f5f\",\"gridcolor\":\"white\",\"linecolor\":\"white\",\"minorgridcolor\":\"white\",\"startlinecolor\":\"#2a3f5f\"},\"type\":\"carpet\"}],\"choropleth\":[{\"colorbar\":{\"outlinewidth\":0,\"ticks\":\"\"},\"type\":\"choropleth\"}],\"contour\":[{\"colorbar\":{\"outlinewidth\":0,\"ticks\":\"\"},\"colorscale\":[[0.0,\"#0d0887\"],[0.1111111111111111,\"#46039f\"],[0.2222222222222222,\"#7201a8\"],[0.3333333333333333,\"#9c179e\"],[0.4444444444444444,\"#bd3786\"],[0.5555555555555556,\"#d8576b\"],[0.6666666666666666,\"#ed7953\"],[0.7777777777777778,\"#fb9f3a\"],[0.8888888888888888,\"#fdca26\"],[1.0,\"#f0f921\"]],\"type\":\"contour\"}],\"contourcarpet\":[{\"colorbar\":{\"outlinewidth\":0,\"ticks\":\"\"},\"type\":\"contourcarpet\"}],\"heatmap\":[{\"colorbar\":{\"outlinewidth\":0,\"ticks\":\"\"},\"colorscale\":[[0.0,\"#0d0887\"],[0.1111111111111111,\"#46039f\"],[0.2222222222222222,\"#7201a8\"],[0.3333333333333333,\"#9c179e\"],[0.4444444444444444,\"#bd3786\"],[0.5555555555555556,\"#d8576b\"],[0.6666666666666666,\"#ed7953\"],[0.7777777777777778,\"#fb9f3a\"],[0.8888888888888888,\"#fdca26\"],[1.0,\"#f0f921\"]],\"type\":\"heatmap\"}],\"heatmapgl\":[{\"colorbar\":{\"outlinewidth\":0,\"ticks\":\"\"},\"colorscale\":[[0.0,\"#0d0887\"],[0.1111111111111111,\"#46039f\"],[0.2222222222222222,\"#7201a8\"],[0.3333333333333333,\"#9c179e\"],[0.4444444444444444,\"#bd3786\"],[0.5555555555555556,\"#d8576b\"],[0.6666666666666666,\"#ed7953\"],[0.7777777777777778,\"#fb9f3a\"],[0.8888888888888888,\"#fdca26\"],[1.0,\"#f0f921\"]],\"type\":\"heatmapgl\"}],\"histogram\":[{\"marker\":{\"pattern\":{\"fillmode\":\"overlay\",\"size\":10,\"solidity\":0.2}},\"type\":\"histogram\"}],\"histogram2d\":[{\"colorbar\":{\"outlinewidth\":0,\"ticks\":\"\"},\"colorscale\":[[0.0,\"#0d0887\"],[0.1111111111111111,\"#46039f\"],[0.2222222222222222,\"#7201a8\"],[0.3333333333333333,\"#9c179e\"],[0.4444444444444444,\"#bd3786\"],[0.5555555555555556,\"#d8576b\"],[0.6666666666666666,\"#ed7953\"],[0.7777777777777778,\"#fb9f3a\"],[0.8888888888888888,\"#fdca26\"],[1.0,\"#f0f921\"]],\"type\":\"histogram2d\"}],\"histogram2dcontour\":[{\"colorbar\":{\"outlinewidth\":0,\"ticks\":\"\"},\"colorscale\":[[0.0,\"#0d0887\"],[0.1111111111111111,\"#46039f\"],[0.2222222222222222,\"#7201a8\"],[0.3333333333333333,\"#9c179e\"],[0.4444444444444444,\"#bd3786\"],[0.5555555555555556,\"#d8576b\"],[0.6666666666666666,\"#ed7953\"],[0.7777777777777778,\"#fb9f3a\"],[0.8888888888888888,\"#fdca26\"],[1.0,\"#f0f921\"]],\"type\":\"histogram2dcontour\"}],\"mesh3d\":[{\"colorbar\":{\"outlinewidth\":0,\"ticks\":\"\"},\"type\":\"mesh3d\"}],\"parcoords\":[{\"line\":{\"colorbar\":{\"outlinewidth\":0,\"ticks\":\"\"}},\"type\":\"parcoords\"}],\"pie\":[{\"automargin\":true,\"type\":\"pie\"}],\"scatter\":[{\"marker\":{\"colorbar\":{\"outlinewidth\":0,\"ticks\":\"\"}},\"type\":\"scatter\"}],\"scatter3d\":[{\"line\":{\"colorbar\":{\"outlinewidth\":0,\"ticks\":\"\"}},\"marker\":{\"colorbar\":{\"outlinewidth\":0,\"ticks\":\"\"}},\"type\":\"scatter3d\"}],\"scattercarpet\":[{\"marker\":{\"colorbar\":{\"outlinewidth\":0,\"ticks\":\"\"}},\"type\":\"scattercarpet\"}],\"scattergeo\":[{\"marker\":{\"colorbar\":{\"outlinewidth\":0,\"ticks\":\"\"}},\"type\":\"scattergeo\"}],\"scattergl\":[{\"marker\":{\"colorbar\":{\"outlinewidth\":0,\"ticks\":\"\"}},\"type\":\"scattergl\"}],\"scattermapbox\":[{\"marker\":{\"colorbar\":{\"outlinewidth\":0,\"ticks\":\"\"}},\"type\":\"scattermapbox\"}],\"scatterpolar\":[{\"marker\":{\"colorbar\":{\"outlinewidth\":0,\"ticks\":\"\"}},\"type\":\"scatterpolar\"}],\"scatterpolargl\":[{\"marker\":{\"colorbar\":{\"outlinewidth\":0,\"ticks\":\"\"}},\"type\":\"scatterpolargl\"}],\"scatterternary\":[{\"marker\":{\"colorbar\":{\"outlinewidth\":0,\"ticks\":\"\"}},\"type\":\"scatterternary\"}],\"surface\":[{\"colorbar\":{\"outlinewidth\":0,\"ticks\":\"\"},\"colorscale\":[[0.0,\"#0d0887\"],[0.1111111111111111,\"#46039f\"],[0.2222222222222222,\"#7201a8\"],[0.3333333333333333,\"#9c179e\"],[0.4444444444444444,\"#bd3786\"],[0.5555555555555556,\"#d8576b\"],[0.6666666666666666,\"#ed7953\"],[0.7777777777777778,\"#fb9f3a\"],[0.8888888888888888,\"#fdca26\"],[1.0,\"#f0f921\"]],\"type\":\"surface\"}],\"table\":[{\"cells\":{\"fill\":{\"color\":\"#EBF0F8\"},\"line\":{\"color\":\"white\"}},\"header\":{\"fill\":{\"color\":\"#C8D4E3\"},\"line\":{\"color\":\"white\"}},\"type\":\"table\"}]},\"layout\":{\"annotationdefaults\":{\"arrowcolor\":\"#2a3f5f\",\"arrowhead\":0,\"arrowwidth\":1},\"autotypenumbers\":\"strict\",\"coloraxis\":{\"colorbar\":{\"outlinewidth\":0,\"ticks\":\"\"}},\"colorscale\":{\"diverging\":[[0,\"#8e0152\"],[0.1,\"#c51b7d\"],[0.2,\"#de77ae\"],[0.3,\"#f1b6da\"],[0.4,\"#fde0ef\"],[0.5,\"#f7f7f7\"],[0.6,\"#e6f5d0\"],[0.7,\"#b8e186\"],[0.8,\"#7fbc41\"],[0.9,\"#4d9221\"],[1,\"#276419\"]],\"sequential\":[[0.0,\"#0d0887\"],[0.1111111111111111,\"#46039f\"],[0.2222222222222222,\"#7201a8\"],[0.3333333333333333,\"#9c179e\"],[0.4444444444444444,\"#bd3786\"],[0.5555555555555556,\"#d8576b\"],[0.6666666666666666,\"#ed7953\"],[0.7777777777777778,\"#fb9f3a\"],[0.8888888888888888,\"#fdca26\"],[1.0,\"#f0f921\"]],\"sequentialminus\":[[0.0,\"#0d0887\"],[0.1111111111111111,\"#46039f\"],[0.2222222222222222,\"#7201a8\"],[0.3333333333333333,\"#9c179e\"],[0.4444444444444444,\"#bd3786\"],[0.5555555555555556,\"#d8576b\"],[0.6666666666666666,\"#ed7953\"],[0.7777777777777778,\"#fb9f3a\"],[0.8888888888888888,\"#fdca26\"],[1.0,\"#f0f921\"]]},\"colorway\":[\"#636efa\",\"#EF553B\",\"#00cc96\",\"#ab63fa\",\"#FFA15A\",\"#19d3f3\",\"#FF6692\",\"#B6E880\",\"#FF97FF\",\"#FECB52\"],\"font\":{\"color\":\"#2a3f5f\"},\"geo\":{\"bgcolor\":\"white\",\"lakecolor\":\"white\",\"landcolor\":\"#E5ECF6\",\"showlakes\":true,\"showland\":true,\"subunitcolor\":\"white\"},\"hoverlabel\":{\"align\":\"left\"},\"hovermode\":\"closest\",\"mapbox\":{\"style\":\"light\"},\"paper_bgcolor\":\"white\",\"plot_bgcolor\":\"#E5ECF6\",\"polar\":{\"angularaxis\":{\"gridcolor\":\"white\",\"linecolor\":\"white\",\"ticks\":\"\"},\"bgcolor\":\"#E5ECF6\",\"radialaxis\":{\"gridcolor\":\"white\",\"linecolor\":\"white\",\"ticks\":\"\"}},\"scene\":{\"xaxis\":{\"backgroundcolor\":\"#E5ECF6\",\"gridcolor\":\"white\",\"gridwidth\":2,\"linecolor\":\"white\",\"showbackground\":true,\"ticks\":\"\",\"zerolinecolor\":\"white\"},\"yaxis\":{\"backgroundcolor\":\"#E5ECF6\",\"gridcolor\":\"white\",\"gridwidth\":2,\"linecolor\":\"white\",\"showbackground\":true,\"ticks\":\"\",\"zerolinecolor\":\"white\"},\"zaxis\":{\"backgroundcolor\":\"#E5ECF6\",\"gridcolor\":\"white\",\"gridwidth\":2,\"linecolor\":\"white\",\"showbackground\":true,\"ticks\":\"\",\"zerolinecolor\":\"white\"}},\"shapedefaults\":{\"line\":{\"color\":\"#2a3f5f\"}},\"ternary\":{\"aaxis\":{\"gridcolor\":\"white\",\"linecolor\":\"white\",\"ticks\":\"\"},\"baxis\":{\"gridcolor\":\"white\",\"linecolor\":\"white\",\"ticks\":\"\"},\"bgcolor\":\"#E5ECF6\",\"caxis\":{\"gridcolor\":\"white\",\"linecolor\":\"white\",\"ticks\":\"\"}},\"title\":{\"x\":0.05},\"xaxis\":{\"automargin\":true,\"gridcolor\":\"white\",\"linecolor\":\"white\",\"ticks\":\"\",\"title\":{\"standoff\":15},\"zerolinecolor\":\"white\",\"zerolinewidth\":2},\"yaxis\":{\"automargin\":true,\"gridcolor\":\"white\",\"linecolor\":\"white\",\"ticks\":\"\",\"title\":{\"standoff\":15},\"zerolinecolor\":\"white\",\"zerolinewidth\":2}}}},                        {\"responsive\": true}                    ).then(function(){\n",
              "                            \n",
              "var gd = document.getElementById('e14f5f38-c2eb-4ed4-a2bf-65ff0f63b32a');\n",
              "var x = new MutationObserver(function (mutations, observer) {{\n",
              "        var display = window.getComputedStyle(gd).display;\n",
              "        if (!display || display === 'none') {{\n",
              "            console.log([gd, 'removed!']);\n",
              "            Plotly.purge(gd);\n",
              "            observer.disconnect();\n",
              "        }}\n",
              "}});\n",
              "\n",
              "// Listen for the removal of the full notebook cells\n",
              "var notebookContainer = gd.closest('#notebook-container');\n",
              "if (notebookContainer) {{\n",
              "    x.observe(notebookContainer, {childList: true});\n",
              "}}\n",
              "\n",
              "// Listen for the clearing of the current output cell\n",
              "var outputEl = gd.closest('.output');\n",
              "if (outputEl) {{\n",
              "    x.observe(outputEl, {childList: true});\n",
              "}}\n",
              "\n",
              "                        })                };                            </script>        </div>\n",
              "</body>\n",
              "</html>"
            ]
          },
          "metadata": {}
        }
      ]
    },
    {
      "cell_type": "markdown",
      "source": [
        "#API Matplotlib"
      ],
      "metadata": {
        "id": "F8Xm3YH6KiPz"
      }
    },
    {
      "cell_type": "code",
      "source": [
        "'''\n",
        "\n",
        "matplotlib.rcParams['font.size'] = 15.\n",
        "matplotlib.rcParams['font.family'] = \"serif\"\n",
        "\n",
        "graph = ax.bar(count_pure_keys, count_pure.values(), width=0.8, color=sns.color_palette())\n",
        "ax.bar_label(graph, padding=0)\n",
        "\n",
        "ax.set( ylim=(min,max), xlim=(min,max), autoscale_on=False )\n",
        "plt.ylim(min,max)\n",
        "plt.xlim(min,max)\n",
        "\n",
        "\n",
        "ax.set_title('(a)')\n",
        "ax.set_ylabel('titulo do eixo y')\n",
        "ax.set_xlabel('titulo do eixo y ')\n",
        "\n",
        "ax.set_xticks(posição dos labels, labels=[valores dos labels]) \n",
        "ax.tick_params(which='minor major or both', \n",
        "               length=4,\n",
        "               width=3, \n",
        "               color='r',\n",
        "               labelcolor='black',\n",
        "               labelsize='large',\n",
        "               grid_color='black',\n",
        "               grid_linestyle='dotted'\n",
        "               )\n",
        "plt.tick_params('x',\n",
        "                labelsize=6,\n",
        "                labelbottom=False) \n",
        "\n",
        "ax.grid(True, \n",
        "        which='both major or minor',\n",
        "        linestyle='-.',\n",
        "        axis='x y or both', \n",
        "        linestyle='dotted',\n",
        "        color='black'\n",
        "        )\n",
        "\n",
        "\n",
        "\n",
        "#Eixos em escala logarítima\n",
        "plt.yscale('log')\n",
        "plt.xscale('log')\n",
        "\n",
        "\n",
        "#Add legenda\n",
        "plt.legend(loc='lower right')\n",
        "# Remover legenda:\n",
        "ax.get_legend().remove()\n",
        "# Alterar legenda:\n",
        "ax.legend(loc='best', ncols=3)\n",
        "'''"
      ],
      "metadata": {
        "id": "PUstJlk0KmgI"
      },
      "execution_count": null,
      "outputs": []
    }
  ]
}